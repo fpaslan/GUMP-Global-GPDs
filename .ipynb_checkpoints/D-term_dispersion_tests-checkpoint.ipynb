{
 "cells": [
  {
   "cell_type": "code",
   "execution_count": null,
   "id": "804c9601",
   "metadata": {},
   "outputs": [],
   "source": [
    "from Parameters import ParaManager_Unp, ParaManager_Pol\n",
    "from Observables import GPDobserv\n",
    "import scipy as sp\n",
    "import numpy as np"
   ]
  },
  {
   "cell_type": "code",
   "execution_count": null,
   "id": "3e91a8da",
   "metadata": {},
   "outputs": [],
   "source": [
    "Paralst_Unp     = [4.92252245341075, 0.21632833928300776, 3.228525762889928, 2.347470994624827, 0.16344460105600744, 1.135739437288775, 6.893895640954224, 0.15, 3.358767931921898, 0.1842893653407356, 4.417802345266761, 3.4816671934041685, 0.2491737223289409, 1.0519258916411531, 6.553873836594824, 2.8642810381756982, 1.0523058580968585, 7.412779706371915, 0.15, 0.1813228421702434, 0.9068471909677753, 1.1018931174030364, 0.4607676086634599, -0.22341404954304522, 0.7683213780361391, 0.22948701913308733, -2.638627981453611, -0.2, 0.7985103392773935, 3.404262017724412, 0.0, 0.0, 0.0, 0.0, 0.0, 0.0, 0.0, 3.44764738950069, 3.86/2, 1.0]\n",
    "Paralst_Pol     = [4.833430384423373, -0.26355746727810136, 3.1855567245326317, 2.1817250267982997, 0.06994083000560514, 0.5376473088622284, 4.22898219488582, 0.15, -0.663583721889865, 0.24767388786943867, 3.5722668493718626, 0.5420415127277624, -0.08640413690298866, 0.4946733452347538, 2.553713733867575, 0.24307061469378405, 0.6309890923077655, 2.716624295877619, 0.15, 7.99299605623125, 0.799997370438831, 6.415448025778247, 2.0758963463111515, -2.407059919688728, 37.65971219196447, 0.24589373380232807, 1.6561364171210822, 0.0, 2.6840962695831894, 37.58453653636456, 0.0, 0.0, 0.0, 0.0, 0.0, 0.0, 0.0, 9.852441955678458]\n",
    "    \n",
    "Para_Unp_all = ParaManager_Unp(Para_Unp)    "
   ]
  },
  {
   "cell_type": "code",
   "execution_count": null,
   "id": "fecaffc2",
   "metadata": {},
   "outputs": [],
   "source": [
    "def CFF_theo(xB, t, Q, Para_Unp):\n",
    "    x = 0\n",
    "    xi = (1/(2 - xB) - (2*t*(-1 + xB))/(Q**2*(-2 + xB)**2))*xB\n",
    "    H_E = GPDobserv(x, xi, t, Q, 1)\n",
    "    Ht_Et = GPDobserv(x, xi, t, Q, -1)\n",
    "    HCFF = H_E.CFF(Para_Unp[..., 0, :, :, :, :])\n",
    "    \n",
    "    return HCFF"
   ]
  },
  {
   "cell_type": "code",
   "execution_count": null,
   "id": "aebd62bf",
   "metadata": {},
   "outputs": [],
   "source": [
    "def Disp_D(xB, t, Q):\n",
    "    \n",
    "    def imH(x):\n",
    "        return np.imag(CFF_theo(x,t,Q,Para_Unp_all))\n",
    "    reH = np.real(CFF_theo(xB,t,Q,Para_Unp_all))\n",
    "    \n",
    "    disp = sp.integrate.quad(lambda x: imH(x), -1, 1, weight='cauchy', wvar=-xB) - sp.integrate.quad(lambda x: imH(x), -1, 1, weight='cauchy', wvar=-xB)\n",
    "    \n",
    "    return reH - disp\n",
    "    \n",
    "    \n",
    "    \n",
    "    \n",
    "    "
   ]
  },
  {
   "cell_type": "code",
   "execution_count": null,
   "id": "283b7e7a",
   "metadata": {},
   "outputs": [],
   "source": [
    "\n",
    "\n",
    "\n",
    "\n",
    "\n",
    "\n",
    "\n"
   ]
  },
  {
   "cell_type": "code",
   "execution_count": null,
   "id": "c46f5cb0",
   "metadata": {},
   "outputs": [],
   "source": []
  }
 ],
 "metadata": {
  "kernelspec": {
   "display_name": "Python 3 (ipykernel)",
   "language": "python",
   "name": "python3"
  },
  "language_info": {
   "codemirror_mode": {
    "name": "ipython",
    "version": 3
   },
   "file_extension": ".py",
   "mimetype": "text/x-python",
   "name": "python",
   "nbconvert_exporter": "python",
   "pygments_lexer": "ipython3",
   "version": "3.9.12"
  }
 },
 "nbformat": 4,
 "nbformat_minor": 5
}
