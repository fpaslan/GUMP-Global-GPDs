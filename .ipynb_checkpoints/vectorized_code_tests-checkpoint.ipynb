{
 "cells": [
  {
   "cell_type": "code",
   "execution_count": null,
   "id": "ad136f1d",
   "metadata": {},
   "outputs": [],
   "source": [
    "import Minimizer as minim\n",
    "import DVMP_xsec as dvmp\n",
    "import DVCS_xsec as dvcs\n",
    "from Parameters import ParaManager_Unp, ParaManager_Pol\n",
    "import numpy as np\n",
    "import scipy as sp\n",
    "import matplotlib.pyplot as plt\n",
    "import Evolution as ev\n",
    "\n",
    "import pandas as pd\n",
    "import time\n",
    "\n",
    "import warnings\n",
    "from typing import Tuple"
   ]
  },
  {
   "cell_type": "code",
   "execution_count": null,
   "id": "3a450d0f",
   "metadata": {},
   "outputs": [],
   "source": []
  },
  {
   "cell_type": "code",
   "execution_count": null,
   "id": "dffa0b5e",
   "metadata": {},
   "outputs": [],
   "source": []
  },
  {
   "cell_type": "code",
   "execution_count": null,
   "id": "312f436a",
   "metadata": {},
   "outputs": [],
   "source": [
    "import Evolution as ev\n",
    "import numpy as np\n",
    "import scipy as sp"
   ]
  },
  {
   "cell_type": "code",
   "execution_count": null,
   "id": "52c568fa",
   "metadata": {},
   "outputs": [],
   "source": [
    "print(ev.beta0(2))"
   ]
  },
  {
   "cell_type": "code",
   "execution_count": null,
   "id": "1dac2b7c",
   "metadata": {},
   "outputs": [],
   "source": [
    "sp.special.zeta(2) - np.pi**2/6"
   ]
  },
  {
   "cell_type": "code",
   "execution_count": null,
   "id": "95e9273e",
   "metadata": {},
   "outputs": [],
   "source": [
    "j_vec = np.array([2 + 2.0*1j, 2 + 4.0*1j, 2 + 6.0*1j, 2 + 8.0*1j], dtype=complex)\n",
    "k_vec = np.array([0.0,0.0,0.0,0.0],dtype=complex)"
   ]
  },
  {
   "cell_type": "code",
   "execution_count": null,
   "id": "91fe7f1d",
   "metadata": {},
   "outputs": [],
   "source": [
    "print(ev.WilsonT_NLO_test(j_vec,k_vec))"
   ]
  },
  {
   "cell_type": "code",
   "execution_count": null,
   "id": "29173d07",
   "metadata": {},
   "outputs": [],
   "source": []
  },
  {
   "cell_type": "code",
   "execution_count": null,
   "id": "665a2a93",
   "metadata": {},
   "outputs": [],
   "source": []
  },
  {
   "cell_type": "code",
   "execution_count": null,
   "id": "37d893d4",
   "metadata": {},
   "outputs": [],
   "source": [
    "warnings.filterwarnings('error', category=np.ComplexWarning)"
   ]
  },
  {
   "cell_type": "code",
   "execution_count": null,
   "id": "9e8d797e",
   "metadata": {},
   "outputs": [],
   "source": []
  },
  {
   "cell_type": "code",
   "execution_count": null,
   "id": "26eb85f7",
   "metadata": {},
   "outputs": [],
   "source": []
  },
  {
   "cell_type": "code",
   "execution_count": null,
   "id": "036a1d52",
   "metadata": {},
   "outputs": [],
   "source": [
    "jarr = np.ones(500,dtype=complex) * (-0.2)\n",
    "karr = np.array([-0.2],dtype=complex)\n",
    "flavs = np.array([1,2,3,4,5])\n",
    "lamj, prj = ev.projectors(jarr + 1 + 4*1j, 2, 1)\n",
    "lamjsc, prjsc = ev.projectors(-0.2 + 1 + 4*1j, 2, 1)\n",
    "lamk, prk = ev.projectors(karr + 1 + 8*1j, 2, 1)\n",
    "lamksc, prksc = ev.projectors(-0.2 + 1+ 8*1j, 2, 1)\n",
    "#print(ev.singlet_LO(jarr+1,2,1))\n",
    "#print(lamjsc)\n",
    "#print(lamksc)\n",
    "#print(lamk)\n",
    "# = ev.amuindep(karr - 4*1j,2,1)#np.array([-0.2],dtype=complex)- 4*1j, 2, 1)\n",
    "#b = ev.amuindep_quad(-0.2 - 4*1j, 2, 1)\n",
    "#print(a-b)\n",
    "a = ev.Moment_Evo_NLO(jarr - 4*1j, 2, 1, 10, flavs)[0,...]\n",
    "b = ev.Moment_Evo_NLO_quad(-0.2 - 4*1j, 2, 1, 10, flavs)\n",
    "\n",
    "print(a)\n",
    "print(b)\n",
    "\n",
    "\n"
   ]
  },
  {
   "cell_type": "code",
   "execution_count": null,
   "id": "ce7fcd60",
   "metadata": {},
   "outputs": [],
   "source": [
    "print(ev.singlet_LO(jarr+1,2,1))\n",
    "\n",
    "\n",
    "\n"
   ]
  },
  {
   "cell_type": "code",
   "execution_count": null,
   "id": "f4c3fe05",
   "metadata": {},
   "outputs": [],
   "source": [
    "print(np.array([[1,2]]).shape)\n",
    "print(np.reshape(np.array([[1,2]]),(2,)))"
   ]
  },
  {
   "cell_type": "code",
   "execution_count": null,
   "id": "a1a4bc1a",
   "metadata": {},
   "outputs": [],
   "source": [
    "print(ev.non_singlet_NLO(np.array([3.0]),2,1))\n",
    "\n",
    "\n",
    "\n",
    "\n"
   ]
  },
  {
   "cell_type": "code",
   "execution_count": null,
   "id": "1db32456",
   "metadata": {},
   "outputs": [],
   "source": [
    "x = 5\n",
    "\n",
    "X = np.array([x])\n",
    "\n",
    "\n"
   ]
  },
  {
   "cell_type": "code",
   "execution_count": null,
   "id": "5e74563c",
   "metadata": {},
   "outputs": [],
   "source": [
    "\n",
    "\n",
    "\n"
   ]
  },
  {
   "cell_type": "code",
   "execution_count": null,
   "id": "b543fe4f",
   "metadata": {},
   "outputs": [],
   "source": [
    "a = np.array([[1,1],[1,1],[1,1]])\n",
    "b = np.array([[1,2],[3,4],[5,6]])\n",
    "\n",
    "c = np.ones((a.shape[0],2,2))\n",
    "for i in range(a.shape[0]):\n",
    "    c[i,...] = np.subtract.outer(a[i,...],b[i,...])\n",
    "print(c)"
   ]
  },
  {
   "cell_type": "code",
   "execution_count": null,
   "id": "c6447342",
   "metadata": {},
   "outputs": [],
   "source": [
    "def beta_loggamma(a: complex, b: complex) -> complex:\n",
    "    return np.exp(sp.special.loggamma(a) + sp.special.loggamma(b)-sp.special.loggamma(a + b))\n",
    "\n",
    "def h_test(j, t, Q2, alpha, beta, alphap, bexp):\n",
    "    return beta_loggamma (j + 1 - alpha, 1 + beta) * (j + 1  - alpha)/ (j + 1 - alpha - alphap * t) * np.exp(t*bexp)\n",
    "\n",
    "def Cg_test(j):\n",
    "    return 3 * 2 * 2 ** (1+j) * sp.special.gamma(5/2+j) / (j + 3) / (sp.special.gamma(3/2) * sp.special.gamma(3+j))\n",
    "\n",
    "def MBintegrand(imJ):\n",
    "    return h_test(0.25 + imJ*1j,-0.005,3.2,1.1,8,0.15,3) * Cg_test(0.25 + imJ*1j) * 0.0001**(-0.25 - 1j*imJ - 1) * (1j + np.tan((0.25 + 1j*imJ) * np.pi / 2))\n",
    "\n",
    "def ImMBintegrand(imJ):\n",
    "    return np.imag(MBintegrand(imJ))"
   ]
  },
  {
   "cell_type": "code",
   "execution_count": null,
   "id": "ca20331b",
   "metadata": {},
   "outputs": [],
   "source": [
    "tstart1 = time.time()\n",
    "int1 = sp.integrate.fixed_quad(MBintegrand, -20, 20, n=1000)\n",
    "tend1 = time.time()\n",
    "print(\"fixed quad time\", tend1-tstart1,\" result \",int1)\n",
    "\n",
    "tstart2 = time.time()\n",
    "int2 = sp.integrate.quad(MBintegrand, -20, 20, epsrel=0.001)\n",
    "tend2 = time.time()\n",
    "print(\"quad time\",tend2-tstart2,\"result\",int2)"
   ]
  },
  {
   "cell_type": "code",
   "execution_count": null,
   "id": "39182223",
   "metadata": {},
   "outputs": [],
   "source": []
  },
  {
   "cell_type": "code",
   "execution_count": null,
   "id": "f27f9373",
   "metadata": {},
   "outputs": [],
   "source": [
    "def integ(j: complex):\n",
    "    return sp.integrate.quad_vec(lambda x: x**(2+j),0,2)[0]"
   ]
  },
  {
   "cell_type": "code",
   "execution_count": null,
   "id": "dc22ee1a",
   "metadata": {},
   "outputs": [],
   "source": [
    "j_range = np.array([1,2,3])\n",
    "j_integ = np.array([sp.integrate.quad_vec(integ,0,1)[0],sp.integrate.quad_vec(integ,0,2)[0],sp.integrate.quad_vec(integ,0,3)[0]])\n",
    "plt.plot(j_range, j_integ)"
   ]
  },
  {
   "cell_type": "code",
   "execution_count": null,
   "id": "45a03697",
   "metadata": {},
   "outputs": [],
   "source": [
    "sp.special.gamma(1 + 1j*2)"
   ]
  },
  {
   "cell_type": "code",
   "execution_count": null,
   "id": "b9824ec9",
   "metadata": {},
   "outputs": [],
   "source": [
    "#Paralst_Unp_H     = [0.0, 0.237, 3.036, 2.349193947, 0*5, 1.3520102747549123, 7.737, 0.15, 0, 0.237, 3.036, 3.475742056, 0.0, 1.158, 8.0, 2.7, 1.02, 7.5, 0.15, 0.0, 0.0, 0.0, 0.0, 0.0, 0.0, 0.0, -0.0, 0.0, 0.0, 0.0, 0.0, 0.0, 0.0, 0.0, 0.0, 0.0, 0.0, 3.296273604161207]\n",
    "\n",
    "#Para_Unp_All_H    = ParaManager_Unp(Paralst_Unp_H)\n",
    "\n",
    "\n",
    "\n",
    "\n",
    "\n",
    "#Params above yielded total chi^2 of 2.25 fitting glue PDFs and H1 J/psi with N_g, alpha_g, N_ubar, alpha_ubar, and b\n",
    "\n",
    "# Params below for investigating fits\n",
    "\n",
    "\n",
    "Paralst_Unp_H     = [0.0, 0.21632833928300776, 3.228525762889928, 2.347470994624827, 0.16344460105600744, 1.135739437288775, 6.893895640954224, 0.15, 0.0, 0.1842893653407356, 4.417802345266761, 3.4816671934041685, 0.2491737223289409, 1.0519258916411531, 6.553873836594824, 2.8642810381756982, 1.0523058580968585, 7.412779706371915, 0.15, 0.0, 0.9068471909677753, 1.1018931174030364, 0.4607676086634599, 0.0, 0.0, 0.22948701913308733, -2.638627981453611, -0.8033707581160239, 0.7985103392773935, 3.404262017724412, 0.0, 0.0, 0.0, 0.0, 0.0, 0.0, 0.0, 3.44764738950069, 1.93, 0.14721276598504274]\n",
    "\n",
    "Para_Unp_All_H    = ParaManager_Unp(Paralst_Unp_H)\n",
    "\n",
    "#norm = ParaManager_Unp(Paralst_Unp_H,1)\n",
    "\n",
    "#Paralst_Unp     = [4.922551238,0.21635596,3.228702555,2.349193947,0.163440601,1.135738688,6.896742038,0.15,3.358541913,0.184196049,4.41726899,3.475742056,0.249183402,1.051922382,6.548676693,2.864281106,1.052305853,7.412779844,0.15,0.161159704,0.916012032,1.02239598,0.41423421,-0.198595321,0.0,0.18394307,-2.260952723,0,1.159322377,2.569800357,0,0,0,0,0,0,0,3.296968216]\n",
    "#Paralst_Pol     = [4.529773253,-0.246812532,3.037043159,2.607360484,0.076575866,0.516192897,4.369657188,0.15,-0.711694724,0.210181857,3.243538578,4.319727451,-0.057100694,0.612255908,2.099180441,0.243247279,0.630824175,2.71840147,0.15,9.065736349,0.79999977,7.357005187,2.083472023,-3.562901039,0.0,-0.634095327,-7.058667382,0,2.861662204,23.1231347,0,0,0,0,0,0,0,5.379752095]\n",
    "\n",
    "#Para_Unp_All = ParaManager_Unp(Paralst_Unp)\n",
    "#Para_Pol_All = ParaManager_Pol(Paralst_Pol)\n",
    "\n"
   ]
  },
  {
   "cell_type": "code",
   "execution_count": null,
   "id": "867ef8a6",
   "metadata": {},
   "outputs": [],
   "source": [
    "param = np.array([-0.1,-0.01,-0.001,0.001,0.01,0.1])\n",
    "st = time.time()\n",
    "Tfq = np.array([minim.TFF_theo_jpsi_NLO(0.0001,-0.5,7.2, Para_Unp_All_H, 1)])#,minim.TFF_theo_jpsi_NLO(0.0001,-0.5,7.2, Para_Unp_All_H, -0.01)[0],minim.TFF_theo_jpsi_NLO(0.0001,-0.5,7.2, Para_Unp_All_H, -0.001)[0],minim.TFF_theo_jpsi_NLO(0.0001,-0.5,7.2, Para_Unp_All_H, 0.001)[0],minim.TFF_theo_jpsi_NLO(0.0001,-0.5,7.2, Para_Unp_All_H, 0.01)[0],minim.TFF_theo_jpsi_NLO(0.0001,-0.5,7.2, Para_Unp_All_H, 0.1)[0]],dtype=complex)\n",
    "en = time.time()\n",
    "#print(Tfq)\n",
    "#Tq = np.array([minim.TFF_theo_jpsi(0.0001,-0.5,7.2, Para_Unp_All_H, 1)])#,minim.TFF_theo_jpsi(0.0001,-0.5,7.2, Para_Unp_All_H, -0.01)[0],minim.TFF_theo_jpsi(0.0001,-0.5,7.2, Para_Unp_All_H, -0.001)[0], minim.TFF_theo_jpsi(0.0001,-0.5,7.2, Para_Unp_All_H, 0.001)[0],minim.TFF_theo_jpsi(0.0001,-0.5,7.2, Para_Unp_All_H, 0.01)[0],minim.TFF_theo_jpsi(0.0001,-0.5,7.2, Para_Unp_All_H, 0.1)[0]],dtype=complex)        \n",
    "               \n",
    "print(Tfq, \"time\", en-st)\n",
    "#print(Tq)\n",
    "               \n",
    "               ###########"
   ]
  },
  {
   "cell_type": "code",
   "execution_count": null,
   "id": "018e6307",
   "metadata": {},
   "outputs": [],
   "source": []
  },
  {
   "cell_type": "code",
   "execution_count": null,
   "id": "21ae50a5",
   "metadata": {},
   "outputs": [],
   "source": []
  },
  {
   "cell_type": "code",
   "execution_count": null,
   "id": "06446162",
   "metadata": {},
   "outputs": [],
   "source": [
    "print(Tfq)"
   ]
  },
  {
   "cell_type": "code",
   "execution_count": null,
   "id": "dbce52fe",
   "metadata": {},
   "outputs": [],
   "source": [
    "fixed, quad Max_imJ\n",
    "19818, ... 10\n",
    "162499, 353282 20\n",
    "188732, 353287 30\n",
    "193765, 353281 40\n",
    "193614, 353282 50\n",
    "192097, 353287 60\n",
    "180107, ... 150"
   ]
  },
  {
   "cell_type": "code",
   "execution_count": null,
   "id": "6f54114f",
   "metadata": {},
   "outputs": [],
   "source": [
    "plt.plot(param,np.real(Tfq)-np.real(Tq),'ro')\n",
    "#plt.xscale(\"log\")\n",
    "#plt.plot(param,np.real(Tq),'bo')\n",
    "plt.show()\n"
   ]
  },
  {
   "cell_type": "code",
   "execution_count": null,
   "id": "1d6b1bf7",
   "metadata": {},
   "outputs": [],
   "source": [
    "plt.plot(param,np.imag(Tfq)-np.imag(Tq),'ro')\n",
    "#plt.xscale(\"log\")\n",
    "#plt.plot(param,np.imag(Tq),'bo')\n",
    "plt.show()\n"
   ]
  },
  {
   "cell_type": "code",
   "execution_count": null,
   "id": "8c85982a",
   "metadata": {},
   "outputs": [],
   "source": []
  },
  {
   "cell_type": "code",
   "execution_count": null,
   "id": "dba8db7a",
   "metadata": {},
   "outputs": [],
   "source": []
  },
  {
   "cell_type": "code",
   "execution_count": null,
   "id": "babf179a",
   "metadata": {},
   "outputs": [],
   "source": [
    "def DVCS_Hera_dq(y,xB,t,Q):\n",
    "    [HCFF, ECFF, HtCFF, EtCFF] = minim.CFF_theo(xB, t, Q, Para_Unp_All, Para_Pol_All)\n",
    "    return dvcs.dsigma_DVCS_HERA(y, xB, t, Q, \"UU\", HCFF, ECFF, HtCFF, EtCFF)\n",
    "\n",
    "def DVCS_Hera_quad_dq(y,xB,t,Q):\n",
    "    [HCFF, ECFF, HtCFF, EtCFF] = minim.CFF_quad_theo(xB, t, Q, Para_Unp_All, Para_Pol_All)\n",
    "    return dvcs.dsigma_DVCS_HERA(y, xB, t, Q, \"UU\", HCFF, ECFF, HtCFF, EtCFF)"
   ]
  },
  {
   "cell_type": "code",
   "execution_count": null,
   "id": "c8546a7b",
   "metadata": {},
   "outputs": [],
   "source": [
    "qs = np.array([3.2,5.2,7.2,9.2,11.2,20.0,30.0])\n",
    "fquad_xsec = np.array([DVCS_Hera_dq(0.1111,0.0001,-0.5,3.2),DVCS_Hera_dq(0.1111,0.0001,-0.5,5.2),DVCS_Hera_dq(0.1111,0.0001,-0.5,7.2),DVCS_Hera_dq(0.1111,0.0001,-0.5,9.2),DVCS_Hera_dq(0.1111,0.0001,-0.5,11.2),DVCS_Hera_dq(0.1111,0.0001,-0.5,20.2),DVCS_Hera_dq(0.1111,0.0001,-0.5,30.2)])\n",
    "rquad_xsec = np.array([DVCS_Hera_quad_dq(0.1111,0.0001,-0.5,3.2),DVCS_Hera_quad_dq(0.1111,0.0001,-0.5,5.2),DVCS_Hera_quad_dq(0.1111,0.0001,-0.5,7.2),DVCS_Hera_quad_dq(0.1111,0.0001,-0.5,9.2),DVCS_Hera_quad_dq(0.1111,0.0001,-0.5,11.2),DVCS_Hera_quad_dq(0.1111,0.0001,-0.5,20.2),DVCS_Hera_quad_dq(0.1111,0.0001,-0.5,30.2)])                 "
   ]
  },
  {
   "cell_type": "code",
   "execution_count": null,
   "id": "a0866320",
   "metadata": {},
   "outputs": [],
   "source": [
    "plt.plot(qs,fquad_xsec,'r')\n",
    "plt.plot(qs,rquad_xsec,'b')\n",
    "plt.show()"
   ]
  },
  {
   "cell_type": "code",
   "execution_count": null,
   "id": "008ab4f9",
   "metadata": {},
   "outputs": [],
   "source": [
    "tmin = 0\n",
    "tmax = 1\n",
    "def DVCS_Hera_tint(y,xB,Q):\n",
    "    def DVCS_Hera_tintegrand(t):\n",
    "        return DVCS_Hera_dq(y,xB,t,Q)\n",
    "    return sp.integrate.fixed_quad(DVCS_Hera_tintegrand, tmin, tmax, n = 500)[0]"
   ]
  },
  {
   "cell_type": "code",
   "execution_count": null,
   "id": "f499a71e",
   "metadata": {},
   "outputs": [],
   "source": [
    "DVCS_Hera_tint(0.1111,0.0001,3.2)"
   ]
  },
  {
   "cell_type": "code",
   "execution_count": null,
   "id": "4c2e8ce8",
   "metadata": {},
   "outputs": [],
   "source": []
  },
  {
   "cell_type": "code",
   "execution_count": null,
   "id": "517bf8e5",
   "metadata": {},
   "outputs": [],
   "source": []
  },
  {
   "cell_type": "code",
   "execution_count": null,
   "id": "d47d3e6f",
   "metadata": {},
   "outputs": [],
   "source": [
    "M_p = 0.938\n",
    "M_n = 0.940\n",
    "M_rho = 0.775\n",
    "M_phi = 1.019\n",
    "M_jpsi = 3.097\n",
    "gevtonb = 389.9 * 1000\n",
    "alphaEM = 1 / 137.036"
   ]
  },
  {
   "cell_type": "code",
   "execution_count": null,
   "id": "1b1939de",
   "metadata": {},
   "outputs": [],
   "source": [
    "def dsigma_Jpsi_dt(y: float, xB: float, t: float, Q: float, phi: float, HTFF_jpsi: complex, HTFF_NLO_jpsi: complex):\n",
    "    \n",
    "    \"\"\"\n",
    "    \n",
    "    unpolarized nucleon to unpolarized nucleon\n",
    "    \n",
    "    \"\"\"\n",
    "    \n",
    "    # Version including mass corrections! Extra factor of 3 C_F**2 needed to account for different factors included in gluon TFF. \n",
    "    return ((1 - y) / (1 - y - y**2 / 2) + M_jpsi**2 / Q**2) * gevtonb * 4 / 9 * 2 * np.pi**2 * alphaEM * ev.AlphaS(2, 2, np.sqrt(Q**2 + M_jpsi**2))**2 * ev.CF**2 * Q**2 * (((1 - (xB / (2 - xB))**2) * (np.real(HTFF_jpsi * np.conjugate(HTFF_NLO_jpsi)) + np.real(HTFF_NLO_jpsi * np.conjugate(HTFF_jpsi))) / ev.NC**2 / (M_jpsi**2 + Q**2)**2 / ((M_jpsi**2 + Q**2) / xB - Q**2 - M_p**2) / np.sqrt(((M_jpsi**2 + Q**2) / xB - Q**2)**2 + Q**4 + M_p**4 + 2 * ((M_jpsi**2 + Q**2) / xB - Q**2) * Q**2 + 2 * Q**2 * M_p**2 - 2 * ((M_jpsi**2 + Q**2) / xB - Q**2) * M_p**2)) + (((-t - (M_p**2 * xB**2 / (1-xB))) / 2 / M_p) * 0 / ev.NC**2 / (M_jpsi**2 + Q**2)**2 / ((M_jpsi**2 + Q**2) / xB - Q**2 - M_p**2) / np.sqrt(((M_jpsi**2 + Q**2) / xB - Q**2)**2 + Q**4 + M_p**4 + 2 * ((M_jpsi**2 + Q**2) / xB - Q**2) * Q**2 + 2 * Q**2 * M_p**2 - 2 * ((M_jpsi**2 + Q**2) / xB - Q**2) * M_p**2)))\n",
    "    "
   ]
  },
  {
   "cell_type": "code",
   "execution_count": null,
   "id": "28978b9f",
   "metadata": {},
   "outputs": [],
   "source": [
    "\n",
    "\n",
    "\n",
    "def jpsi_H_dq_NLO(y,xB,t,Q):\n",
    "    \n",
    "    HTFF_jpsi = minim.TFF_theo_jpsi_LO(xB, t, np.sqrt(Q), Para_Unp_All_H)\n",
    "    HTFF_NLO_jpsi = minim.TFF_theo_jpsi_NLO(xB, t, np.sqrt(Q), Para_Unp_All_H,1)\n",
    "    \n",
    "    \n",
    "    return dsigma_Jpsi_dt(y, xB, t, np.sqrt(Q), 0, HTFF_jpsi, HTFF_NLO_jpsi) * Paralst_Unp_H[-1]\n"
   ]
  },
  {
   "cell_type": "code",
   "execution_count": null,
   "id": "6cc39010",
   "metadata": {},
   "outputs": [],
   "source": [
    "'''\n",
    "xtest_pts = np.array([0.0001,0.0002,0.0004,0.0008,0.001,0.005])\n",
    "\n",
    "t0 = time.time()\n",
    "\n",
    "\n",
    "j_xtest = np.array([jpsi_H_dq(0.1111,0.0001,-0.05,8.5)])#,jpsi_H_dq(0.1111,0.0001,-0.05,6.4),jpsi_H_dq(0.1111,0.0001,-0.05,9.6)])#,jpsi_H_dq(0.1111,0.0002,-0.05,3.2),jpsi_H_dq(0.1111,0.0004,-0.05,3.2),jpsi_H_dq(0.1111,0.0008,-0.05,3.2),jpsi_H_dq(0.1111,0.001,-0.05,3.2),jpsi_H_dq(0.1111,0.005,-0.05,3.2)])\n",
    "\n",
    "\n",
    "tend = time.time()\n",
    "\n",
    "texecute = tend - t0\n",
    "print('fixed quad time :', texecute, 'seconds')\n",
    "print(j_xtest)\n",
    "'''\n",
    "\n",
    "xtest_pts_NLO = np.array([0.0001,0.0002,0.0004,0.0008,0.001,0.005])\n",
    "\n",
    "t0_NLO = time.time()\n",
    "\n",
    "\n",
    "j_xtest_NLO = np.array([jpsi_H_dq_NLO(0.1111,0.0001,-0.05,6.4),jpsi_H_dq_NLO(0.1111,0.0002,-0.05,6.4),jpsi_H_dq_NLO(0.1111,0.0003,-0.05,6.4)])#,jpsi_H_dq_NLO(0.1111,0.0004,-0.05,3.2),jpsi_H_dq_NLO(0.1111,0.0008,-0.05,3.2),jpsi_H_dq_NLO(0.1111,0.001,-0.05,3.2),jpsi_H_dq_NLO(0.1111,0.005,-0.05,3.2)])\n",
    "\n",
    "\n",
    "tend_NLO = time.time()\n",
    "\n",
    "texecute_NLO = tend_NLO - t0_NLO\n",
    "print('scipy quad execution time :', texecute_NLO, 'seconds')\n",
    "print(j_xtest_NLO)\n"
   ]
  },
  {
   "cell_type": "code",
   "execution_count": null,
   "id": "4f455146",
   "metadata": {},
   "outputs": [],
   "source": []
  },
  {
   "cell_type": "code",
   "execution_count": null,
   "id": "929aed77",
   "metadata": {},
   "outputs": [],
   "source": []
  },
  {
   "cell_type": "code",
   "execution_count": null,
   "id": "039cbb75",
   "metadata": {
    "scrolled": true
   },
   "outputs": [],
   "source": [
    "xtest_pts = np.array([0.0001,0.0002,0.0004,0.0008,0.001,0.005])\n",
    "j_xtest_LO = np.array([jpsi_H_dq(0.1111,0.0001,-0.05,3.2),jpsi_H_dq(0.1111,0.0002,-0.05,3.2),jpsi_H_dq(0.1111,0.0004,-0.05,3.2),jpsi_H_dq(0.1111,0.0008,-0.05,3.2),jpsi_H_dq(0.1111,0.001,-0.05,3.2),jpsi_H_dq(0.1111,0.005,-0.05,3.2)])\n",
    "j_xtested1_LO = np.array([jpsi_H_dq(0.1111,0.0001,-0.05,10),jpsi_H_dq(0.1111,0.0002,-0.05,10),jpsi_H_dq(0.1111,0.0004,-0.05,10),jpsi_H_dq(0.1111,0.0008,-0.05,10),jpsi_H_dq(0.1111,0.001,-0.05,10),jpsi_H_dq(0.1111,0.005,-0.05,10)])\n",
    "j_xtested2_LO = np.array([jpsi_H_dq(0.1111,0.0001,-0.05,23),jpsi_H_dq(0.1111,0.0002,-0.05,23),jpsi_H_dq(0.1111,0.0004,-0.05,23),jpsi_H_dq(0.1111,0.0008,-0.05,23),jpsi_H_dq(0.1111,0.001,-0.05,23),jpsi_H_dq(0.1111,0.005,-0.05,23)])\n",
    "print(j_xtest_LO)"
   ]
  },
  {
   "cell_type": "code",
   "execution_count": null,
   "id": "405ad49c",
   "metadata": {},
   "outputs": [],
   "source": [
    "j_xtest = np.array([jpsi_H_dq_NLO(0.1111,0.0001,-0.05,3.2),jpsi_H_dq_NLO(0.1111,0.0002,-0.05,3.2),jpsi_H_dq_NLO(0.1111,0.0004,-0.05,3.2),jpsi_H_dq_NLO(0.1111,0.0008,-0.05,3.2),jpsi_H_dq_NLO(0.1111,0.001,-0.05,3.2),jpsi_H_dq_NLO(0.1111,0.005,-0.05,3.2)])\n",
    "j_xtested1 = np.array([jpsi_H_dq_NLO(0.1111,0.0001,-0.05,10),jpsi_H_dq_NLO(0.1111,0.0002,-0.05,10),jpsi_H_dq_NLO(0.1111,0.0004,-0.05,10),jpsi_H_dq_NLO(0.1111,0.0008,-0.05,10),jpsi_H_dq_NLO(0.1111,0.001,-0.05,10),jpsi_H_dq_NLO(0.1111,0.005,-0.05,10)])\n",
    "j_xtested2 = np.array([jpsi_H_dq_NLO(0.1111,0.0001,-0.05,23),jpsi_H_dq_NLO(0.1111,0.0002,-0.05,23),jpsi_H_dq_NLO(0.1111,0.0004,-0.05,23),jpsi_H_dq_NLO(0.1111,0.0008,-0.05,23),jpsi_H_dq_NLO(0.1111,0.001,-0.05,23),jpsi_H_dq_NLO(0.1111,0.005,-0.05,23)])\n",
    "print(j_xtest)"
   ]
  },
  {
   "cell_type": "code",
   "execution_count": null,
   "id": "7063a220",
   "metadata": {},
   "outputs": [],
   "source": [
    "plt.figure(figsize=(8,5))\n",
    "plt.plot(xtest_pts,j_xtest_LO*(xtest_pts/0.0001)**(0),'r',label='$Q^2 = 3.2$')\n",
    "plt.plot(xtest_pts,j_xtest_LO[0]*(xtest_pts/0.0001)**(-0.355),'p-',label='$x^{-0.375}$')\n",
    "plt.plot(xtest_pts,j_xtested1_LO*(xtest_pts/0.0001)**(0),'g',label='$Q^2 = 10$')\n",
    "plt.plot(xtest_pts,j_xtested1_LO[0]*(xtest_pts/0.0001)**(-0.375),'p-',label='$x^{-0.375}$')\n",
    "plt.plot(xtest_pts,j_xtested2_LO*(xtest_pts/0.0001)**(0),'b',label='$Q^2 = 23$')\n",
    "plt.plot(xtest_pts,j_xtested2_LO[0]*(xtest_pts/0.0001)**(-0.575),'p-',label='$x^{-0.375}$')\n",
    "plt.yscale('log')\n",
    "plt.xlabel('xB')\n",
    "plt.ylabel('d$\\sigma_{LO}$ / dt')\n",
    "plt.legend()\n",
    "plt.title('predicted xB-dependence for $10^{-4} - 10^{-3}$')\n",
    "plt.show()"
   ]
  },
  {
   "cell_type": "code",
   "execution_count": null,
   "id": "ca5c4e56",
   "metadata": {
    "scrolled": false
   },
   "outputs": [],
   "source": [
    "plt.figure(figsize=(8,5))\n",
    "plt.plot(xtest_pts,j_xtest*(xtest_pts/0.0001)**(0),'r',label='$Q^2 = 3.2$')\n",
    "plt.plot(xtest_pts,j_xtest[0]*(xtest_pts/0.0001)**(-0.305),'r--',label='$x^{-0.375}$')\n",
    "plt.plot(xtest_pts,j_xtested1*(xtest_pts/0.0001)**(0),'g',label='$Q^2 = 10$')\n",
    "plt.plot(xtest_pts,j_xtested1[0]*(xtest_pts/0.0001)**(-0.315),'g--',label='$x^{-0.375}$')\n",
    "plt.plot(xtest_pts,j_xtested2*(xtest_pts/0.0001)**(0),'b',label='$Q^2 = 23$')\n",
    "plt.plot(xtest_pts,j_xtested2[0]*(xtest_pts/0.0001)**(-0.375),'b--',label='$x^{-0.375}$')\n",
    "plt.yscale('log')\n",
    "plt.xlabel('xB')\n",
    "plt.ylabel('d$\\sigma$ / dt')\n",
    "plt.legend()\n",
    "plt.title('predicted xB-dependence for $10^{-4} - 10^{-3}$')\n",
    "plt.show()"
   ]
  },
  {
   "cell_type": "code",
   "execution_count": null,
   "id": "43929067",
   "metadata": {},
   "outputs": [],
   "source": [
    "j_xtest_NLO = np.array([jpsi_H_dq_NLO(0.1111,0.0001,-0.05,3.2),jpsi_H_dq_NLO(0.1111,0.0002,-0.05,3.2),jpsi_H_dq_NLO(0.1111,0.0004,-0.05,3.2),jpsi_H_dq_NLO(0.1111,0.0008,-0.05,3.2),jpsi_H_dq_NLO(0.1111,0.001,-0.05,3.2),jpsi_H_dq_NLO(0.1111,0.005,-0.05,3.2)])\n",
    "j_xtested1_NLO = np.array([jpsi_H_dq_NLO(0.1111,0.0001,-0.05,10),jpsi_H_dq_NLO(0.1111,0.0002,-0.05,10),jpsi_H_dq_NLO(0.1111,0.0004,-0.05,10),jpsi_H_dq_NLO(0.1111,0.0008,-0.05,10),jpsi_H_dq_NLO(0.1111,0.001,-0.05,10),jpsi_H_dq_NLO(0.1111,0.005,-0.05,10)])\n",
    "j_xtested2_NLO = np.array([jpsi_H_dq_NLO(0.1111,0.0001,-0.05,23),jpsi_H_dq_NLO(0.1111,0.0002,-0.05,23),jpsi_H_dq_NLO(0.1111,0.0004,-0.05,23),jpsi_H_dq_NLO(0.1111,0.0008,-0.05,23),jpsi_H_dq(0.1111,0.001,-0.05,23),jpsi_H_dq_NLO(0.1111,0.005,-0.05,23)])\n",
    "#print(j_xtest)"
   ]
  },
  {
   "cell_type": "code",
   "execution_count": null,
   "id": "a42a292e",
   "metadata": {},
   "outputs": [],
   "source": [
    "plt.figure(figsize=(8,5))\n",
    "plt.plot(xtest_pts,j_xtest_NLO*(xtest_pts/0.0001)**(0),'r',label='$Q^2 = 3.2$')\n",
    "plt.plot(xtest_pts,j_xtest_NLO[0]*(xtest_pts/0.0001)**(-0.355),'p-',label='$x^{-0.375}$')\n",
    "plt.plot(xtest_pts,j_xtested1_NLO*(xtest_pts/0.0001)**(0),'g',label='$Q^2 = 10$')\n",
    "plt.plot(xtest_pts,j_xtested1_NLO[0]*(xtest_pts/0.0001)**(-0.375),'p-',label='$x^{-0.375}$')\n",
    "plt.plot(xtest_pts,j_xtested2_NLO*(xtest_pts/0.0001)**(0),'b',label='$Q^2 = 23$')\n",
    "plt.plot(xtest_pts,j_xtested2_NLO[0]*(xtest_pts/0.0001)**(-0.575),'p-',label='$x^{-0.375}$')\n",
    "plt.yscale('log')\n",
    "plt.xlabel('xB')\n",
    "plt.ylabel('d$\\sigma$ / dt')\n",
    "plt.legend()\n",
    "plt.title('predicted xB-dependence for $10^{-4} - 10^{-3}$')\n",
    "plt.show()"
   ]
  },
  {
   "cell_type": "code",
   "execution_count": null,
   "id": "c38c37de",
   "metadata": {},
   "outputs": [],
   "source": [
    "ttest_pts = np.array([0.04,0.13,0.18,0.26,0.34,0.42,0.5,0.68])\n",
    "j_ttest = np.array([jpsi_H_dq(0.1111,0.001,-0.04,3.2),jpsi_H_dq(0.1111,0.001,-0.13,3.2),jpsi_H_dq(0.1111,0.001,-0.18,3.2),jpsi_H_dq(0.1111,0.001,-0.26,3.2),jpsi_H_dq(0.1111,0.001,-0.34,3.2),jpsi_H_dq(0.1111,0.001,-0.42,3.2),jpsi_H_dq(0.1111,0.001,-0.5,3.2),jpsi_H_dq(0.1111,0.001,-0.68,3.2)])\n",
    "j_ttested1 = np.array([jpsi_H_dq(0.1111,0.001,-0.04,10),jpsi_H_dq(0.1111,0.001,-0.13,10),jpsi_H_dq(0.1111,0.001,-0.18,10),jpsi_H_dq(0.1111,0.001,-0.26,10),jpsi_H_dq(0.1111,0.001,-0.34,10),jpsi_H_dq(0.1111,0.001,-0.42,10),jpsi_H_dq(0.1111,0.001,-0.5,10),jpsi_H_dq(0.1111,0.001,-0.68,10)])\n",
    "j_ttested2 = np.array([jpsi_H_dq(0.1111,0.001,-0.04,20),jpsi_H_dq(0.1111,0.001,-0.13,20),jpsi_H_dq(0.1111,0.001,-0.18,20),jpsi_H_dq(0.1111,0.001,-0.26,20),jpsi_H_dq(0.1111,0.001,-0.34,20),jpsi_H_dq(0.1111,0.001,-0.42,20),jpsi_H_dq(0.1111,0.001,-0.5,20),jpsi_H_dq(0.1111,0.001,-0.68,20)])"
   ]
  },
  {
   "cell_type": "code",
   "execution_count": null,
   "id": "340002a9",
   "metadata": {},
   "outputs": [],
   "source": [
    "j_ttest_NLO = np.array([jpsi_H_dq_NLO(0.1111,0.001,-0.04,3.2),jpsi_H_dq_NLO(0.1111,0.001,-0.13,3.2),jpsi_H_dq_NLO(0.1111,0.001,-0.18,3.2),jpsi_H_dq_NLO(0.1111,0.001,-0.26,3.2),jpsi_H_dq_NLO(0.1111,0.001,-0.34,3.2),jpsi_H_dq_NLO(0.1111,0.001,-0.42,3.2),jpsi_H_dq_NLO(0.1111,0.001,-0.5,3.2),jpsi_H_dq_NLO(0.1111,0.001,-0.68,3.2)])\n",
    "j_ttested1_NLO = np.array([jpsi_H_dq_NLO(0.1111,0.001,-0.04,10),jpsi_H_dq_NLO(0.1111,0.001,-0.13,10),jpsi_H_dq_NLO(0.1111,0.001,-0.18,10),jpsi_H_dq_NLO(0.1111,0.001,-0.26,10),jpsi_H_dq_NLO(0.1111,0.001,-0.34,10),jpsi_H_dq_NLO(0.1111,0.001,-0.42,10),jpsi_H_dq_NLO(0.1111,0.001,-0.5,10),jpsi_H_dq_NLO(0.1111,0.001,-0.68,10)])\n",
    "j_ttested2_NLO = np.array([jpsi_H_dq_NLO(0.1111,0.001,-0.04,20),jpsi_H_dq_NLO(0.1111,0.001,-0.13,20),jpsi_H_dq_NLO(0.1111,0.001,-0.18,20),jpsi_H_dq_NLO(0.1111,0.001,-0.26,20),jpsi_H_dq_NLO(0.1111,0.001,-0.34,20),jpsi_H_dq_NLO(0.1111,0.001,-0.42,20),jpsi_H_dq_NLO(0.1111,0.001,-0.5,20),jpsi_H_dq_NLO(0.1111,0.001,-0.68,20)])"
   ]
  },
  {
   "cell_type": "code",
   "execution_count": null,
   "id": "b0f641f2",
   "metadata": {},
   "outputs": [],
   "source": [
    "plt.figure(figsize=(8,6))\n",
    "plt.plot(ttest_pts,j_ttest,'r',label='$Q^2 = 3.2$')\n",
    "plt.plot(ttest_pts,j_ttest[0]*np.exp(-3.8*(ttest_pts-0.05)),'p-',label='$e^{-3.8|t|}$')\n",
    "plt.plot(ttest_pts,j_ttested1,'g',label='$Q^2 = 10$')\n",
    "plt.plot(ttest_pts,j_ttested1[0]*np.exp(-3.8*(ttest_pts-0.05)),'p-',label='$e^{-3.8|t|}$')\n",
    "plt.plot(ttest_pts,j_ttested2,'b',label='$Q^2 = 20$')\n",
    "plt.plot(ttest_pts,j_ttested2[0]*np.exp(-3.8*(ttest_pts-0.05)),'p-',label='$e^{-3.8|t|}$')\n",
    "plt.yscale('log')\n",
    "plt.xlabel('|t|')\n",
    "plt.ylabel('d$\\sigma$ / dt')\n",
    "plt.legend()\n",
    "plt.title('predicted t-dependence for $0.05 - 0.6$')\n",
    "plt.show()"
   ]
  },
  {
   "cell_type": "code",
   "execution_count": null,
   "id": "5bff01dd",
   "metadata": {},
   "outputs": [],
   "source": [
    "plt.figure(figsize=(8,6))\n",
    "plt.plot(ttest_pts,j_ttest_NLO,'r',label='$Q^2 = 3.2$')\n",
    "plt.plot(ttest_pts,j_ttest_NLO[0]*np.exp(-3.8*(ttest_pts-0.05)),'p-',label='$e^{-3.8|t|}$')\n",
    "plt.plot(ttest_pts,j_ttested1_NLO,'g',label='$Q^2 = 10$')\n",
    "plt.plot(ttest_pts,j_ttested1_NLO[0]*np.exp(-3.8*(ttest_pts-0.05)),'p-',label='$e^{-3.8|t|}$')\n",
    "plt.plot(ttest_pts,j_ttested2_NLO,'b',label='$Q^2 = 20$')\n",
    "plt.plot(ttest_pts,j_ttested2_NLO[0]*np.exp(-3.8*(ttest_pts-0.05)),'p-',label='$e^{-3.8|t|}$')\n",
    "plt.yscale('log')\n",
    "plt.xlabel('|t|')\n",
    "plt.ylabel('d$\\sigma$ / dt')\n",
    "plt.legend()\n",
    "plt.title('predicted t-dependence for $0.05 - 0.6$')\n",
    "plt.show()"
   ]
  },
  {
   "cell_type": "code",
   "execution_count": null,
   "id": "643c6303",
   "metadata": {},
   "outputs": [],
   "source": [
    "j_qtest_LO = np.array([jpsi_H_dq(0.1111,0.001,-0.04,4),jpsi_H_dq(0.1111,0.001,-0.04,8),jpsi_H_dq(0.1111,0.001,-0.04,12),jpsi_H_dq(0.1111,0.001,-0.04,16),jpsi_H_dq(0.1111,0.001,-0.04,20),jpsi_H_dq(0.1111,0.001,-0.04,24),jpsi_H_dq(0.1111,0.001,-0.04,28),jpsi_H_dq(0.1111,0.001,-0.04,32)])\n",
    "j_qtested1_LO = np.array([jpsi_H_dq(0.1111,0.0005,-0.04,4),jpsi_H_dq(0.1111,0.0005,-0.04,8),jpsi_H_dq(0.1111,0.0005,-0.04,12),jpsi_H_dq(0.1111,0.0005,-0.04,16),jpsi_H_dq(0.1111,0.0005,-0.04,20),jpsi_H_dq(0.1111,0.0005,-0.04,24),jpsi_H_dq(0.1111,0.0005,-0.04,28),jpsi_H_dq(0.1111,0.0005,-0.04,32)])\n",
    "j_qtested2_LO = np.array([jpsi_H_dq(0.1111,0.0001,-0.04,4),jpsi_H_dq(0.1111,0.0001,-0.04,8),jpsi_H_dq(0.1111,0.0001,-0.04,12),jpsi_H_dq(0.1111,0.0001,-0.04,16),jpsi_H_dq(0.1111,0.0001,-0.04,20),jpsi_H_dq(0.1111,0.0001,-0.04,24),jpsi_H_dq(0.1111,0.0001,-0.04,28),jpsi_H_dq(0.1111,0.0001,-0.04,32)])"
   ]
  },
  {
   "cell_type": "code",
   "execution_count": null,
   "id": "1dccc695",
   "metadata": {},
   "outputs": [],
   "source": [
    "qtest_pts = np.array([4,8,12,16,20,24,28,32])\n",
    "j_qtest = np.array([jpsi_H_dq_NLO(0.1111,0.001,-0.04,4),jpsi_H_dq_NLO(0.1111,0.001,-0.04,8),jpsi_H_dq_NLO(0.1111,0.001,-0.04,12),jpsi_H_dq_NLO(0.1111,0.001,-0.04,16),jpsi_H_dq_NLO(0.1111,0.001,-0.04,20),jpsi_H_dq_NLO(0.1111,0.001,-0.04,24),jpsi_H_dq_NLO(0.1111,0.001,-0.04,28),jpsi_H_dq_NLO(0.1111,0.001,-0.04,32)])\n",
    "j_qtested1 = np.array([jpsi_H_dq_NLO(0.1111,0.0005,-0.04,4),jpsi_H_dq_NLO(0.1111,0.0005,-0.04,8),jpsi_H_dq_NLO(0.1111,0.0005,-0.04,12),jpsi_H_dq_NLO(0.1111,0.0005,-0.04,16),jpsi_H_dq_NLO(0.1111,0.0005,-0.04,20),jpsi_H_dq_NLO(0.1111,0.0005,-0.04,24),jpsi_H_dq_NLO(0.1111,0.0005,-0.04,28),jpsi_H_dq_NLO(0.1111,0.0005,-0.04,32)])\n",
    "j_qtested2 = np.array([jpsi_H_dq_NLO(0.1111,0.0001,-0.04,4),jpsi_H_dq_NLO(0.1111,0.0001,-0.04,8),jpsi_H_dq_NLO(0.1111,0.0001,-0.04,12),jpsi_H_dq_NLO(0.1111,0.0001,-0.04,16),jpsi_H_dq_NLO(0.1111,0.0001,-0.04,20),jpsi_H_dq_NLO(0.1111,0.0001,-0.04,24),jpsi_H_dq_NLO(0.1111,0.0001,-0.04,28),jpsi_H_dq_NLO(0.1111,0.0001,-0.04,32)])"
   ]
  },
  {
   "cell_type": "code",
   "execution_count": null,
   "id": "cb03f6d4",
   "metadata": {},
   "outputs": [],
   "source": [
    "plt.figure(figsize=(8,6))\n",
    "plt.plot(qtest_pts,j_qtest_LO,'r',label='$xB = 0.001$')\n",
    "plt.plot(qtest_pts,j_qtest_LO[0]*(((4 + 3.097**2)/(qtest_pts + 3.097**2))**2.5),'r--',label='$(Q^2 + M_V^2)^{-2.75}$')\n",
    "plt.plot(qtest_pts,j_qtested1_LO,'g',label='$xB = 0.0005$')\n",
    "plt.plot(qtest_pts,j_qtested1_LO[0]*(((4 + 3.097**2)/(qtest_pts + 3.097**2))**2.5),'g--',label='$(Q^2 + M_V^2)^{-2.7}$')\n",
    "plt.plot(qtest_pts,j_qtested2_LO,'b',label='$xB = 0.0001$')\n",
    "plt.plot(qtest_pts,j_qtested2_LO[0]*(((4 + 3.097**2)/(qtest_pts + 3.097**2))**2.5),'b--',label='$(Q^2 + M_V^2)^{-2.5}$')\n",
    "plt.yscale('log')\n",
    "plt.xlabel('$Q^2$')\n",
    "plt.ylabel('d$\\sigma$ / dt')\n",
    "plt.legend()\n",
    "plt.title('predicted $Q^2$ - dependence for $0.05 - 0.6$')\n",
    "plt.show()"
   ]
  },
  {
   "cell_type": "code",
   "execution_count": null,
   "id": "f513e572",
   "metadata": {},
   "outputs": [],
   "source": [
    "plt.figure(figsize=(8,6))\n",
    "plt.plot(qtest_pts,j_qtest,'r',label='$xB = 0.001$')\n",
    "plt.plot(qtest_pts,j_qtest[0]*(((4 + 3.097**2)/(qtest_pts + 3.097**2))**2.5),'r--',label='$(Q^2 + M_V^2)^{-2.75}$')\n",
    "plt.plot(qtest_pts,j_qtested1,'g',label='$xB = 0.0005$')\n",
    "plt.plot(qtest_pts,j_qtested1[0]*(((4 + 3.097**2)/(qtest_pts + 3.097**2))**2.5),'g--',label='$(Q^2 + M_V^2)^{-2.7}$')\n",
    "plt.plot(qtest_pts,j_qtested2,'b',label='$xB = 0.0001$')\n",
    "plt.plot(qtest_pts,j_qtested2[0]*(((4 + 3.097**2)/(qtest_pts + 3.097**2))**2.5),'b--',label='$(Q^2 + M_V^2)^{-2.5}$')\n",
    "plt.yscale('log')\n",
    "plt.xlabel('$Q^2$')\n",
    "plt.ylabel('d$\\sigma$ / dt')\n",
    "plt.legend()\n",
    "plt.title('predicted $Q^2$ - dependence for $0.05 - 0.6$')\n",
    "plt.show()"
   ]
  },
  {
   "cell_type": "code",
   "execution_count": null,
   "id": "b634a9d9",
   "metadata": {},
   "outputs": [],
   "source": [
    "jpsi_t_LO_points_Q2_3p2 = np.array([jpsi_H_dq(0.1111,0.0013,-0.04,3.2),jpsi_H_dq(0.1111,0.0013,-0.13,3.2),jpsi_H_dq(0.1111,0.0013,-0.27,3.2),jpsi_H_dq(0.1111,0.0013,-0.68,3.2)])\n",
    "jpsi_t_LO_points_Q2_7 = np.array([jpsi_H_dq(0.1112,0.0017,-0.04,7.0),jpsi_H_dq(0.1112,0.0017,-0.13,7.0),jpsi_H_dq(0.1112,0.0017,-0.27,7.0),jpsi_H_dq(0.1112,0.0017,-0.68,7.0)])\n",
    "jpsi_t_LO_points_Q2_22p4 = np.array([jpsi_H_dq(0.1114,0.0032,-0.04,22.4),jpsi_H_dq(0.1114,0.0032,-0.13,22.4),jpsi_H_dq(0.1114,0.0032,-0.27,22.4),jpsi_H_dq(0.1114,0.0032,-0.68,22.4)])"
   ]
  },
  {
   "cell_type": "code",
   "execution_count": null,
   "id": "9870f542",
   "metadata": {},
   "outputs": [],
   "source": [
    "plt.figure(figsize=(8,6))\n",
    "plt.plot(t_points,jpsi_t_LO_points_Q2_3p2,'r-',label='Q^2 = 3.2 theo pred')\n",
    "#plt.plot(t_points,jpsi_t_points_Q2_3p2 * ((0.0032/0.0013)**-0.375) * ((3.2 + 3.09**2)/ (22.4 + 3.09**2))**2.5,'p-',label='pred test Q^2 = 22.4')\n",
    "#plt.plot(t_points,jpsi_H1_3p2 * ((0.0017/0.0013)**-0.375) * ((3.2 + 3.09**2)/ (7 + 3.09**2))**2.49,'p-',label='data test Q^2 = 22.4')\n",
    "#plt.plot(t_points,107 * np.exp(-4*(t_points-0.04)),'p-',label='3.2 data pred')\n",
    "#plt.plot(t_points,78.6 * np.exp(-4*(t_points-0.04)),'p-',label='7 data pred')\n",
    "#plt.plot(t_points,15 * np.exp(-4*(t_points-0.04)),'p-',label='22.4 data pred')\n",
    "plt.errorbar(t_points,jpsi_H1_3p2,err_H1_3p2, marker='o', color='r', ms=2, mew=4, ls='none', label='Q^2 = 3.2 data')\n",
    "plt.plot(t_points,jpsi_t_LO_points_Q2_7,'g-',label='Q^2 = 7.0 theo pred')\n",
    "plt.errorbar(t_points,jpsi_H1_7,err_H1_7, marker='o', color='g', ms=2, mew=4, ls='none', label='Q^2 = 7 data')\n",
    "plt.plot(t_points,jpsi_t_LO_points_Q2_22p4,'b-',label='Q^2 = 22.4 theo pred')\n",
    "plt.errorbar(t_points,jpsi_H1_22p4,err_H1_22p4, marker='o', color='b', ms=2, mew=4, ls='none', label='Q^2 = 22.4 data')\n",
    "plt.xlabel(\"|t|\")\n",
    "plt.ylabel(\"dsig / dt\")\n",
    "plt.yscale('log')\n",
    "plt.legend()\n",
    "plt.title(\"H1 vs fit with errors from R value, t - dependence\")\n",
    "plt.show"
   ]
  },
  {
   "cell_type": "code",
   "execution_count": null,
   "id": "fc84993f",
   "metadata": {},
   "outputs": [],
   "source": [
    "t_points = np.array([0.04,0.13,0.27,0.68])\n",
    "jpsi_t_points_Q2_3p2 = np.array([jpsi_H_dq_NLO(0.1111,0.0013,-0.04,3.2),jpsi_H_dq_NLO(0.1111,0.0013,-0.13,3.2),jpsi_H_dq_NLO(0.1111,0.0013,-0.27,3.2),jpsi_H_dq_NLO(0.1111,0.0013,-0.68,3.2)])\n",
    "jpsi_t_points_Q2_7 = np.array([jpsi_H_dq_NLO(0.1112,0.0017,-0.04,7.0),jpsi_H_dq_NLO(0.1112,0.0017,-0.13,7.0),jpsi_H_dq_NLO(0.1112,0.0017,-0.27,7.0),jpsi_H_dq_NLO(0.1112,0.0017,-0.68,7.0)])\n",
    "jpsi_t_points_Q2_22p4 = np.array([jpsi_H_dq_NLO(0.1114,0.0032,-0.04,22.4),jpsi_H_dq_NLO(0.1114,0.0032,-0.13,22.4),jpsi_H_dq_NLO(0.1114,0.0032,-0.27,22.4),jpsi_H_dq_NLO(0.1114,0.0032,-0.68,22.4)])\n",
    "jpsi_H1_3p2 = np.array([107,95.1,40.2,8.04])\n",
    "err_H1_3p2 = np.array([17.2,14.3,6.7,1.3])\n",
    "jpsi_H1_7 = np.array([78.6,27.7,18.9,5.21])\n",
    "err_H1_7 = np.array([15.18,6.3,4.1,1.1])\n",
    "jpsi_H1_22p4 = np.array([15,8.9,4.55,1.36])\n",
    "err_H1_22p4 = np.array([3.4,2.3,1.0,0.28])"
   ]
  },
  {
   "cell_type": "code",
   "execution_count": null,
   "id": "a2bb08d1",
   "metadata": {
    "scrolled": false
   },
   "outputs": [],
   "source": [
    "plt.figure(figsize=(8,6))\n",
    "plt.plot(t_points,jpsi_t_points_Q2_3p2,'r-',label='Q^2 = 3.2 theo pred')\n",
    "#plt.plot(t_points,jpsi_t_points_Q2_3p2 * ((0.0032/0.0013)**-0.375) * ((3.2 + 3.09**2)/ (22.4 + 3.09**2))**2.5,'p-',label='pred test Q^2 = 22.4')\n",
    "#plt.plot(t_points,jpsi_H1_3p2 * ((0.0017/0.0013)**-0.375) * ((3.2 + 3.09**2)/ (7 + 3.09**2))**2.49,'p-',label='data test Q^2 = 22.4')\n",
    "#plt.plot(t_points,107 * np.exp(-4*(t_points-0.04)),'p-',label='3.2 data pred')\n",
    "#plt.plot(t_points,78.6 * np.exp(-4*(t_points-0.04)),'p-',label='7 data pred')\n",
    "#plt.plot(t_points,15 * np.exp(-3.5*(t_points-0.04)),'p-',label='22.4 data pred')\n",
    "plt.errorbar(t_points,jpsi_H1_3p2,err_H1_3p2, marker='o', color='r', ms=2, mew=4, ls='none', label='Q^2 = 3.2 data')\n",
    "plt.plot(t_points,jpsi_t_points_Q2_7,'g-',label='Q^2 = 7.0 theo pred')\n",
    "plt.errorbar(t_points,jpsi_H1_7,err_H1_7, marker='o', color='g', ms=2, mew=4, ls='none', label='Q^2 = 7 data')\n",
    "plt.plot(t_points,jpsi_t_points_Q2_22p4,'b-',label='Q^2 = 22.4 theo pred')\n",
    "plt.errorbar(t_points,jpsi_H1_22p4,err_H1_22p4, marker='o', color='b', ms=2, mew=4, ls='none', label='Q^2 = 22.4 data')\n",
    "plt.xlabel(\"|t|\")\n",
    "plt.ylabel(\"dsig / dt\")\n",
    "plt.yscale('log')\n",
    "plt.legend()\n",
    "plt.title(\"H1 vs fit with errors from R value, t - dependence\")\n",
    "plt.show"
   ]
  },
  {
   "cell_type": "code",
   "execution_count": null,
   "id": "66ffa1cd",
   "metadata": {},
   "outputs": [],
   "source": [
    "x_pts = np.array([0.0009,0.0019,0.0057])\n",
    "\n",
    "jpsi_x_pts_t_0p05 = np.array([jpsi_H_dq_NLO(0.0362,0.0009,-0.05,8.9),jpsi_H_dq_NLO(0.1068,0.0019,-0.05,8.9),jpsi_H_dq_NLO(0.2179,0.0057,-0.05,8.9)])\n",
    "jpsi_x_pts_t_0p19 = np.array([jpsi_H_dq_NLO(0.0362,0.0009,-0.19,8.9),jpsi_H_dq_NLO(0.1068,0.0019,-0.19,8.9),jpsi_H_dq_NLO(0.2179,0.0057,-0.19,8.9)])\n",
    "jpsi_x_pts_t_0p64 = np.array([jpsi_H_dq_NLO(0.0362,0.0009,-0.64,8.9),jpsi_H_dq_NLO(0.1068,0.0019,-0.64,8.9),jpsi_H_dq_NLO(0.2179,0.0057,-0.64,8.9)])\n",
    "\n",
    "jpsi_H1_0p05 = np.array([60,51.3,33.3])\n",
    "err_H1_0p05 = np.array([13.4,8.3,5.9])\n",
    "jpsi_H1_0p19 = np.array([31.5,30.1,17.3])\n",
    "err_H1_0p19 = np.array([6.5,4.5,2.8])\n",
    "jpsi_H1_0p64 = np.array([6,5.5,3.4])\n",
    "err_H1_0p64 = np.array([1.3,0.9,0.6])\n",
    "\n",
    "# modified for sigma_L\n",
    "\n",
    "#jpsi_H1_0p05 = np.array([11.15,9.58,6.22])\n",
    "#err_H1_0p05 = np.array([16.64,9.27,6.04])\n",
    "#jpsi_H1_0p19 = np.array([5.86,5.62,3.23])\n",
    "#err_H1_0p19 = np.array([5.69,5.43,3.13])\n",
    "#jpsi_H1_0p64 = np.array([1.12,1.03,0.64])\n",
    "#err_H1_0p64 = np.array([1.08,0.99,0.62])"
   ]
  },
  {
   "cell_type": "code",
   "execution_count": null,
   "id": "b1808d9a",
   "metadata": {},
   "outputs": [],
   "source": [
    "plt.plot(x_pts,jpsi_x_pts_t_0p05,'r-',label='t=-0.05')\n",
    "#plt.plot(x_pts,jpsi_x_pts_t_0p05 * np.exp(-4.0*(0.64-0.05)),'p-',label='t~-0.64')\n",
    "#plt.plot(x_pts,jpsi_H1_0p05 * np.exp(-4*(0.64-0.05)),'k-')\n",
    "plt.errorbar(x_pts,jpsi_H1_0p05,err_H1_0p05, marker='o', color='r', ms=2, mew=4, ls='none')\n",
    "plt.plot(x_pts,jpsi_x_pts_t_0p19,'g-',label='t=-0.19')\n",
    "plt.errorbar(x_pts,jpsi_H1_0p19,err_H1_0p19, marker='o', color='g', ms=2, mew=4, ls='none')\n",
    "plt.plot(x_pts,jpsi_x_pts_t_0p64,'b-',label='t=-0.64')\n",
    "plt.errorbar(x_pts,jpsi_H1_0p64,err_H1_0p64, marker='o', color='b', ms=2, mew=4, ls='none')\n",
    "#plt.plot(x_pts,jpsi_x_pts_t_0p64[0]*((0.0009/x_pts)**(0.375)),'p-')\n",
    "plt.xlabel('x')\n",
    "plt.ylabel('$d \\sigma_L / dt$')\n",
    "plt.yscale('log')\n",
    "#plt.legend()\n",
    "plt.title(\"H1 vs fit, x - dependence\")\n",
    "plt.show"
   ]
  },
  {
   "cell_type": "code",
   "execution_count": null,
   "id": "07f0408e",
   "metadata": {},
   "outputs": [],
   "source": []
  },
  {
   "cell_type": "code",
   "execution_count": null,
   "id": "24d7ad8f",
   "metadata": {},
   "outputs": [],
   "source": [
    "x_pts = np.array([0.00015,0.00029,0.00047,0.00068,0.00107,0.00133,0.00171,0.00228,0.00319,0.00476])\n",
    "\n",
    "jpsi_x_pts_t_0p03 = np.array([jpsi_H_dq_NLO(0.7,0.00015,-0.03,0.05),jpsi_H_dq_NLO(0.364,0.00029,-0.03,0.05),jpsi_H_dq_NLO(0.2304,0.00047,-0.03,0.05),jpsi_H_dq_NLO(0.1573,0.00068,-0.03,0.05),jpsi_H_dq_NLO(0.1002,0.00107,-0.03,0.05),jpsi_H_dq_NLO(0.0803,0.00133,-0.03,0.05),jpsi_H_dq_NLO(0.0625,0.00171,-0.03,0.05),jpsi_H_dq_NLO(0.047,0.00228,-0.03,0.05),jpsi_H_dq_NLO(0.0336,0.00319,-0.03,0.05),jpsi_H_dq_NLO(0.0225,0.00476,-0.03,0.05)])\n",
    "jpsi_x_pts_t_0p1 = np.array([jpsi_H_dq_NLO(0.7,0.00015,-0.1,0.05),jpsi_H_dq_NLO(0.364,0.00029,-0.1,0.05),jpsi_H_dq_NLO(0.2304,0.00047,-0.1,0.05),jpsi_H_dq_NLO(0.1573,0.00068,-0.1,0.05),jpsi_H_dq_NLO(0.1002,0.00107,-0.1,0.05),jpsi_H_dq_NLO(0.0803,0.00133,-0.1,0.05),jpsi_H_dq_NLO(0.0625,0.00171,-0.1,0.05),jpsi_H_dq_NLO(0.047,0.00228,-0.1,0.05),jpsi_H_dq_NLO(0.0336,0.00319,-0.1,0.05),jpsi_H_dq_NLO(0.0225,0.00476,-0.1,0.05)])\n",
    "jpsi_x_pts_t_0p22 = np.array([jpsi_H_dq_NLO(0.7,0.00015,-0.22,0.05),jpsi_H_dq_NLO(0.364,0.00029,-0.22,0.05),jpsi_H_dq_NLO(0.2304,0.00047,-0.22,0.05),jpsi_H_dq_NLO(0.1573,0.00068,-0.22,0.05),jpsi_H_dq_NLO(0.1002,0.00107,-0.22,0.05),jpsi_H_dq_NLO(0.0803,0.00133,-0.22,0.05),jpsi_H_dq_NLO(0.0625,0.00171,-0.22,0.05),jpsi_H_dq_NLO(0.047,0.00228,-0.22,0.05),jpsi_H_dq_NLO(0.0336,0.00319,-0.22,0.05),jpsi_H_dq_NLO(0.0225,0.00476,-0.22,0.05)])\n",
    "jpsi_x_pts_t_0p45 = np.array([jpsi_H_dq_NLO(0.7,0.00015,-0.45,0.05),jpsi_H_dq_NLO(0.364,0.00029,-0.45,0.05),jpsi_H_dq_NLO(0.2304,0.00047,-0.45,0.05),jpsi_H_dq_NLO(0.1573,0.00068,-0.45,0.05),jpsi_H_dq_NLO(0.1002,0.00107,-0.45,0.05),jpsi_H_dq_NLO(0.0803,0.00133,-0.45,0.05),jpsi_H_dq_NLO(0.0625,0.00171,-0.45,0.05),jpsi_H_dq_NLO(0.047,0.00228,-0.45,0.05),jpsi_H_dq_NLO(0.0336,0.00319,-0.45,0.05),jpsi_H_dq_NLO(0.0225,0.00476,-0.45,0.05)])\n",
    "jpsi_x_pts_t_0p9 = np.array([jpsi_H_dq_NLO(0.7,0.00015,-0.9,0.05),jpsi_H_dq_NLO(0.364,0.00029,-0.9,0.05),jpsi_H_dq_NLO(0.2304,0.00047,-0.9,0.05),jpsi_H_dq_NLO(0.1573,0.00068,-0.9,0.05),jpsi_H_dq_NLO(0.1002,0.00107,-0.9,0.05),jpsi_H_dq_NLO(0.0803,0.00133,-0.9,0.05),jpsi_H_dq_NLO(0.0625,0.00171,-0.9,0.05),jpsi_H_dq_NLO(0.047,0.00228,-0.9,0.05),jpsi_H_dq_NLO(0.0336,0.00319,-0.9,0.05),jpsi_H_dq_NLO(0.0225,0.00476,-0.9,0.05)])\n",
    "\n",
    "jpsi_photo_t_0p03 = np.array([744,537,458,376,392,326,292,321,225,208,182])\n",
    "err_0p03 = np.array([100.24,73.54,58,45.28,50.25,43.19,38.95,41.77,30.48,26.91,25.61])\n",
    "jpsi_photo_t_0p1 = np.array([573,427,267,265,224,224,178,151,169,118,115])\n",
    "err_0p1 = np.array([80.06,49.4,37.01,33.24,32.8,31.24,25.61,23.02,23.43,17.2,18.03])\n",
    "jpsi_photo_t_0p22 = np.array([246,202,167,142,125,135,132,93.4,107.1,69.6,64.9])\n",
    "err_0p22 = np.array([34.54,26.57,20.52,16.28,16.28,16.97,16.28,12.55,13.29,9.21,8.8])\n",
    "jpsi_photo_t_0p45 = np.array([71.6,67,51.5,60.9,48.5,46.3,41.4,38.9,34.3,35.6,35.5])\n",
    "err_0p45 = np.array([11.24,9.71,6.95,7.29,6.82,6.31,5.69,5.48,4.76,4.6,4.75])\n",
    "jpsi_photo_t_0p9 = np.array([13.1,10.7,8.4,8.2,7.7,7.5,8.2,7.1,6.2,5.5,5.7])\n",
    "err_0p9 = np.array([2.61,2.02,1.3,1.22,1.3,1.3,1.3,1.25,1.03,0.86,0.94])"
   ]
  },
  {
   "cell_type": "code",
   "execution_count": null,
   "id": "6c0b96a8",
   "metadata": {},
   "outputs": [],
   "source": []
  },
  {
   "cell_type": "markdown",
   "id": "6a2763c7",
   "metadata": {},
   "source": [
    "# PDFs"
   ]
  },
  {
   "cell_type": "code",
   "execution_count": null,
   "id": "328b40d8",
   "metadata": {},
   "outputs": [],
   "source": [
    "PDF_data = pd.read_csv('GUMPDATA/PDFdata.csv',       header = None, names = ['x', 't', 'Q', 'f', 'delta f', 'spe', 'flv'],        dtype = {'x': float, 't': float, 'Q': float, 'f': float, 'delta f': float,'spe': int, 'flv': str})\n",
    "PDF_data_H  = PDF_data[PDF_data['spe'] == 0]\n",
    "PDF_data_H_g = PDF_data_H[PDF_data_H['flv'] == 'g']\n",
    "H_g_data = np.array(PDF_data_H_g['f'])\n",
    "H_g_err = np.array(PDF_data_H_g['delta f'])\n",
    "x_pts = np.array(PDF_data_H_g['x'])"
   ]
  },
  {
   "cell_type": "code",
   "execution_count": null,
   "id": "913d92a5",
   "metadata": {},
   "outputs": [],
   "source": [
    "H_g = minim.PDF_theo(PDF_data_H_g,Para_Unp_All_H)"
   ]
  },
  {
   "cell_type": "code",
   "execution_count": null,
   "id": "3adb6f7d",
   "metadata": {},
   "outputs": [],
   "source": [
    "plt.plot(x_pts,H_g,'b-')\n",
    "plt.errorbar(x_pts,H_g_data,H_g_err, marker='o', color='r', ms=2, mew=4, ls='none')\n",
    "plt.title('$J/ \\psi$ Fit PDF vs Global PDF')\n",
    "plt.xlabel('$x_B$')\n",
    "plt.ylabel('$H_g (x, 0, 0)$')\n",
    "plt.show()"
   ]
  },
  {
   "cell_type": "markdown",
   "id": "55b3e795",
   "metadata": {},
   "source": [
    "# J/$\\psi$ with ZEUS"
   ]
  },
  {
   "cell_type": "code",
   "execution_count": null,
   "id": "8b03c003",
   "metadata": {},
   "outputs": [],
   "source": [
    "Paralst_Unp_Z     = [0.0, 0.21635596, 3.228702555, 2.349193947, 0.0, 0.30000005096449317, 8.0, 0.15, 0.0, 0.184196049, 4.41726899, 3.475742056, 0.0, 1.158, 8.0, 0.058866032112015014, 1.3400267910614263, 3.148, 0.15, 0.0, 0.0, 0.0, 0.0, 0.0, 0.0, 0.0, -0.0, 0.0, 0.0, 0.0, 0.0, 0.0, 0.0, 0.0, 0.0, 0.0, 0.0, 3.4003298166140135]\n",
    "\n",
    "Para_Unp_All_Z    = ParaManager_Unp(Paralst_Unp_Z)\n",
    "\n",
    "def jpsi_Z_dq(y,xB,t,Q):\n",
    "    \n",
    "    [HTFF_jpsi, ETFF_jpsi] = minim.TFF_theo_jpsi(xB, t, np.sqrt(Q), Para_Unp_All_Z)\n",
    "    \n",
    "    return 2 * np.pi * dvmp.dsigma_Jpsi_dt(y, xB, t, np.sqrt(Q), 0, HTFF_jpsi, ETFF_jpsi)"
   ]
  },
  {
   "cell_type": "code",
   "execution_count": null,
   "id": "dc6ad230",
   "metadata": {},
   "outputs": [],
   "source": [
    "t_points_Z = np.array([0.05,0.15,0.29,0.58])\n",
    "jpsi_t_points_Q2_3p2_Z = np.array([jpsi_Z_dq(0.0899,0.0004,-0.05,3.1),jpsi_Z_dq(0.0899,0.0004,-0.15,3.1),jpsi_Z_dq(0.0899,0.0004,-0.29,3.1),jpsi_Z_dq(0.0899,0.0004,-0.58,3.1)])\n",
    "jpsi_t_points_Q2_7_Z = np.array([jpsi_Z_dq(0.09,0.0008,-0.05,6.8),jpsi_Z_dq(0.09,0.0008,-0.15,7.0),jpsi_Z_dq(0.09,0.0008,-0.29,7.0),jpsi_Z_dq(0.09,0.0008,-0.58,7.0)])\n",
    "jpsi_t_points_Q2_22p4_Z = np.array([jpsi_Z_dq(0.09,0.002,-0.05,16),jpsi_Z_dq(0.09,0.002,-0.15,16.0),jpsi_Z_dq(0.09,0.002,-0.29,16.0),jpsi_Z_dq(0.09,0.002,-0.58,16.0)])\n",
    "jpsi_H1_3p2_Z = np.array([17.02,9.99,5.66,1.23])\n",
    "err_H1_3p2_Z = np.array([22.21,13.04,7.37,1.6])\n",
    "jpsi_H1_7_Z = np.array([18.74,9.81,5.92,1.61])\n",
    "err_H1_7_Z = np.array([11.12,5.75,3.46,0.94])\n",
    "jpsi_H1_22p4_Z = np.array([15.18,8.46,5.1,0.98])\n",
    "err_H1_22p4_Z = np.array([4.13,2.42,1.47,0.27])"
   ]
  },
  {
   "cell_type": "code",
   "execution_count": null,
   "id": "0db3416e",
   "metadata": {},
   "outputs": [],
   "source": [
    "#plt.plot(t_points,jpsi_t_points_Q2_3p2_Z,'r-',label='Q^2 = 3.1')\n",
    "#plt.errorbar(t_points,jpsi_H1_3p2_Z,err_H1_3p2_Z, marker='o', color='r', ms=2, mew=4, ls='none')\n",
    "#plt.plot(t_points,jpsi_H1_3p2_Z,'ro')\n",
    "plt.plot(t_points,jpsi_t_points_Q2_7_Z,'g-',label='Q^2 = 6.8')\n",
    "#plt.errorbar(t_points,jpsi_H1_7_Z,err_H1_7_Z, marker='o', color='g', ms=2, mew=4, ls='none')\n",
    "#plt.plot(t_points,jpsi_H1_7_Z,'go')\n",
    "plt.plot(t_points,jpsi_t_points_Q2_22p4_Z,'b-',label='Q^2 = 16.0')\n",
    "plt.errorbar(t_points,jpsi_H1_22p4_Z,err_H1_22p4_Z, marker='o', color='b', ms=2, mew=4, ls='none')\n",
    "#plt.plot(t_points,jpsi_H1_7_Z * (6.8 / 16)**3, marker='o', color='r', ls='none', label='naive falloff from 6.8 to 16 GeV^2')\n",
    "plt.xlabel(\"|t|\")\n",
    "plt.ylabel(\"dsig_L/dt\")\n",
    "plt.legend()\n",
    "plt.title(\"ZEUS vs fit with errors from R value\")\n",
    "plt.show"
   ]
  },
  {
   "cell_type": "code",
   "execution_count": null,
   "id": "77a1b6d0",
   "metadata": {},
   "outputs": [],
   "source": [
    "qpts = np.array([3.2,4.0,6.0,8.0,10.0,15.0,20.0])\n",
    "\n",
    "\n"
   ]
  },
  {
   "cell_type": "code",
   "execution_count": null,
   "id": "84ae9037",
   "metadata": {},
   "outputs": [],
   "source": [
    "#qfall = qpts**(-6) * jpsi_dq(0.1,0.0005,-0.05,4.0) * 4**6\n",
    "\n",
    "\n",
    "\n"
   ]
  },
  {
   "cell_type": "code",
   "execution_count": null,
   "id": "f53d6f73",
   "metadata": {
    "scrolled": true
   },
   "outputs": [],
   "source": [
    "def jpsi_qpts(y,xB,t):\n",
    "    return np.array([jpsi_dq(y,xB,t,np.sqrt(3.2)),jpsi_dq(y,xB,t,np.sqrt(4.0)),jpsi_dq(y,xB,t,np.sqrt(6.0)),jpsi_dq(y,xB,t,np.sqrt(8.0)),jpsi_dq(y,xB,t,np.sqrt(10.0)),jpsi_dq(y,xB,t,15.0),jpsi_dq(y,xB,t,np.sqrt(20.0))])\n",
    "\n",
    "plt.plot(qpts,jpsi_qpts(0.1,0.0005,-0.05),'r',label='$t=-0.05$')\n",
    "plt.plot(qpts,jpsi_qpts(0.1,0.0005,-0.1),'b',label='$t=-0.1$')\n",
    "plt.plot(qpts,jpsi_qpts(0.1,0.0005,-0.2),'g',label='$t=-0.2$')\n",
    "#plt.plot(qpts,qfall,'o--',label='falloff')\n",
    "plt.xlabel('$Q^2$')\n",
    "plt.ylabel('$\\sigma_L$')\n",
    "plt.title('$x=0.0005$')\n",
    "plt.legend()\n",
    "plt.show()"
   ]
  },
  {
   "cell_type": "markdown",
   "id": "e2e59049",
   "metadata": {},
   "source": [
    "# Rho Production"
   ]
  },
  {
   "cell_type": "code",
   "execution_count": null,
   "id": "97adb3b4",
   "metadata": {},
   "outputs": [],
   "source": [
    "#Paralst_Unp_rho     = [0.0, 0.237, 3.036, 2.349193947, 0.16344460105600744, 1.135739437288775, 6.893895640954224, 0.15, 0.0, 0.237, 3.036, 3.475742056, 0.2491737223289409, 1.0519258916411531, 6.553873836594824, 2.144008837156125, 0.8698898091481743, 6.0, 0.15, 0.0, 0.0, 0.0, 0.0, 0.0, 0.0, 0.22948701913308733, -2.638627981453611, 0.0, 0.0, 0.0, 0.0, 0.0, 0.0, 0.0, 0.0, 0.0, 0.0, 3.1115621858879727]\n",
    "\n",
    "#Para_Unp_All_rho    = ParaManager_Unp(Paralst_Unp_rho)\n",
    "\n",
    "#params for chi^2 / dof of 0.88\n",
    "\n",
    "Paralst_Unp_rho     = [0.0, 0.21632833928300776, 3.228525762889928, 2.347470994624827, 0.16344460105600744, 1.135739437288775, 6.893895640954224, 0.15, 0.0, 0.1842893653407356, 4.417802345266761, 3.4816671934041685, 0.2491737223289409, 1.0519258916411531, 6.553873836594824, 6.390630644873084, 0.8033724741956945, 7.412779706371915, 0.15, 0.1813228421702434, 0.9068471909677753, 1.1018931174030364, 0.4607676086634599, -0.22341404954304522, 0.7683213780361391, 7.027879558934163, -64.50908374376692, 3.3388874122711822, 0.7985103392773935, 3.404262017724412, 0.0, 0.0, 0.0, 0.0, 0.0, 0.0, 0.0, 4.765230989530509, 1.0]\n",
    "\n",
    "Para_Unp_All_rho    = ParaManager_Unp(Paralst_Unp_rho)\n",
    "\n",
    "#params for testing\n",
    "\n",
    "def rho_dq(y,xB,t,Q):\n",
    "    \n",
    "    [HTFF_rho, ETFF_rho] = minim.TFF_theo_rho(xB, t, np.sqrt(Q), Para_Unp_All_rho)\n",
    "    \n",
    "    return 2 * np.pi * dvmp.dsigma_rho_dt(y, xB, t, np.sqrt(Q), 0, HTFF_rho, ETFF_rho)"
   ]
  },
  {
   "cell_type": "code",
   "execution_count": null,
   "id": "0f96480b",
   "metadata": {},
   "outputs": [],
   "source": []
  },
  {
   "cell_type": "code",
   "execution_count": null,
   "id": "87249cff",
   "metadata": {},
   "outputs": [],
   "source": [
    "q_pts_rho = np.array([4, 6, 8, 10, 12, 14, 16, 18, 20])\n",
    "\n",
    "rho_q = np.array([rho_dq(0.1, 0.001, -0.01, 4),rho_dq(0.1, 0.001, -0.01, 6),rho_dq(0.1, 0.001, -0.01, 8),rho_dq(0.1, 0.001, -0.01, 10),rho_dq(0.1, 0.001, -0.01, 12),rho_dq(0.1, 0.001, -0.01, 14),rho_dq(0.1, 0.001, -0.01, 16),rho_dq(0.1, 0.001, -0.01, 18),rho_dq(0.1, 0.001, -0.01, 20)])\n",
    "\n",
    "plt.plot(q_pts_rho, rho_q,'r')\n",
    "plt.plot(q_pts_rho, rho_q[0]*((4/q_pts_rho)**2.15),'b--')\n",
    "plt.xlabel('$Q^2$')\n",
    "plt.ylabel('$d \\sigma / dt$')\n",
    "plt.yscale('log')\n",
    "plt.show()"
   ]
  },
  {
   "cell_type": "code",
   "execution_count": null,
   "id": "4614ec3c",
   "metadata": {},
   "outputs": [],
   "source": []
  },
  {
   "cell_type": "code",
   "execution_count": null,
   "id": "15b170c2",
   "metadata": {},
   "outputs": [],
   "source": []
  },
  {
   "cell_type": "code",
   "execution_count": null,
   "id": "6dec0206",
   "metadata": {},
   "outputs": [],
   "source": []
  },
  {
   "cell_type": "code",
   "execution_count": null,
   "id": "85ce522e",
   "metadata": {},
   "outputs": [],
   "source": []
  },
  {
   "cell_type": "code",
   "execution_count": null,
   "id": "646b5ba8",
   "metadata": {},
   "outputs": [],
   "source": [
    "t_points = np.array([0.025,0.075,0.125,0.175,0.25,0.35,0.45])\n",
    "rho_t_points_Q2_6p6 = np.array([rho_dq(0.063,0.001,-0.025,6.6),rho_dq(0.063,0.001,-0.075,6.6),rho_dq(0.063,0.001,-0.125,6.6),rho_dq(0.063,0.001,-0.175,6.6),rho_dq(0.063,0.001,-0.25,6.6),rho_dq(0.063,0.001,-0.35,6.6),rho_dq(0.063,0.001,-0.45,6.6)])\n",
    "rho_t_points_Q2_11p5 = np.array([rho_dq(0.063,0.002,-0.025,11.5),rho_dq(0.063,0.002,-0.075,11.5),rho_dq(0.063,0.002,-0.125,11.5),rho_dq(0.063,0.002,-0.175,11.5),rho_dq(0.063,0.002,-0.25,11.5),rho_dq(0.063,0.002,-0.35,11.5),rho_dq(0.063,0.002,-0.45,11.5)])\n",
    "rho_H1_6p6 = np.array([604,392,214,198,99.1,50,31.5])\n",
    "err_rho_H1_6p6 = np.array([58.8,45.1,27.5,23.3,14,11.5,8.1])\n",
    "rho_H1_11p5 = np.array([181,123,89.8,61.4,44,22,8.58])\n",
    "err_rho_H1_11p5 = np.array([23.9,17,14.7,12.5,9.6,5.6,3.67])"
   ]
  },
  {
   "cell_type": "code",
   "execution_count": null,
   "id": "06d8d07b",
   "metadata": {},
   "outputs": [],
   "source": [
    "plt.plot(t_points,rho_t_points_Q2_6p6,'g-',label='Q^2 = 6.6')\n",
    "plt.errorbar(t_points,rho_H1_6p6,err_rho_H1_6p6, marker='o', color='g', ms=2, mew=4, ls='none')\n",
    "plt.plot(t_points,rho_t_points_Q2_11p5,'b-',label='Q^2 = 11.5')\n",
    "plt.errorbar(t_points,rho_H1_11p5,err_rho_H1_11p5, marker='o', color='b', ms=2, mew=4, ls='none')\n",
    "plt.xlabel(\"|t|\")\n",
    "plt.ylabel(\"dsig_tot / dt\")\n",
    "plt.yscale('log')\n",
    "plt.legend()\n",
    "plt.title('H1 vs fit for rho')\n",
    "plt.show"
   ]
  },
  {
   "cell_type": "code",
   "execution_count": null,
   "id": "82c87ceb",
   "metadata": {},
   "outputs": [],
   "source": [
    "rho_t_points_Q2_17p4 = np.array([rho_dq(0.063,0.003,-0.025,17.4),rho_dq(0.063,0.003,-0.075,17.4),rho_dq(0.063,0.003,-0.125,17.4),rho_dq(0.063,0.003,-0.175,17.4),rho_dq(0.063,0.003,-0.25,17.4),rho_dq(0.063,0.003,-0.35,17.4),rho_dq(0.063,0.003,-0.45,17.4)])\n",
    "rho_t_points_Q2_33 = np.array([rho_dq(0.063,0.006,-0.025,33),rho_dq(0.063,0.006,-0.075,33),rho_dq(0.063,0.006,-0.125,33),rho_dq(0.063,0.006,-0.175,33),rho_dq(0.063,0.006,-0.25,33),rho_dq(0.063,0.006,-0.35,33),rho_dq(0.063,0.006,-0.45,33)])\n",
    "rho_H1_17p4 = np.array([51.1,35.6,24.3,24.6,12.3,8.48,3.875])\n",
    "err_rho_H1_17p4 = np.array([6.44,5.21,4.01,4.46,2.49,1.85,1.32])\n",
    "rho_H1_33 = np.array([6.52,4.9,4.43,2.59,2.28,1.85,0.66])\n",
    "err_rho_H1_33 = np.array([1.3,1.09,0.92,0.77,0.49,0.6,0.32])"
   ]
  },
  {
   "cell_type": "code",
   "execution_count": null,
   "id": "669167a8",
   "metadata": {},
   "outputs": [],
   "source": [
    "plt.plot(t_points,rho_t_points_Q2_17p4,'g-',label='Q^2 = 17.4')\n",
    "plt.errorbar(t_points,rho_H1_17p4,err_rho_H1_17p4, marker='o', color='g', ms=2, mew=4, ls='none')\n",
    "plt.plot(t_points,rho_t_points_Q2_33,'b-',label='Q^2 = 33')\n",
    "plt.errorbar(t_points,rho_H1_33,err_rho_H1_33, marker='o', color='b', ms=2, mew=4, ls='none')\n",
    "plt.xlabel(\"|t|\")\n",
    "plt.ylabel(\"dsig_tot / dt\")\n",
    "plt.yscale('log')\n",
    "plt.legend()\n",
    "plt.title('H1 vs fit for rho')\n",
    "plt.show"
   ]
  },
  {
   "cell_type": "code",
   "execution_count": null,
   "id": "da11abea",
   "metadata": {},
   "outputs": [],
   "source": [
    "t_points_H = np.array([0.025,0.075,0.125,0.175,0.25,0.35,0.45])\n",
    "plt.figure(figsize=(6,6))\n",
    "plt.plot(t_points_H,rho_t_points_Q2_6p6,'g-',label='Q^2 = 6.6')\n",
    "plt.errorbar(t_points_H,rho_H1_6p6,err_rho_H1_6p6, marker='o', color='g', ms=2, mew=4, ls='none')\n",
    "plt.plot(t_points_H,rho_H1_6p6[0]*np.exp(-6*t_points),'g--')\n",
    "plt.plot(t_points_H,rho_t_points_Q2_11p5,'b-',label='Q^2 = 11.5')\n",
    "plt.errorbar(t_points_H,rho_H1_11p5,err_rho_H1_11p5, marker='o', color='b', ms=2, mew=4, ls='none')\n",
    "plt.plot(t_points_H,rho_H1_11p5[0]*np.exp(-6*t_points),'b--')\n",
    "plt.plot(t_points_H,rho_t_points_Q2_17p4,'r-',label='Q^2 = 17.4')\n",
    "plt.errorbar(t_points_H,rho_H1_17p4,err_rho_H1_17p4, marker='o', color='r', ms=2, mew=4, ls='none')\n",
    "plt.plot(t_points_H,rho_H1_17p4[0]*np.exp(-6*t_points),'r--')\n",
    "plt.plot(t_points_H,rho_t_points_Q2_33,'k-',label='Q^2 = 33')\n",
    "plt.errorbar(t_points_H,rho_H1_33,err_rho_H1_33, marker='o', color='k', ms=2, mew=4, ls='none')\n",
    "plt.plot(t_points_H,rho_H1_33[0]*np.exp(-6*t_points),'k--')\n",
    "plt.xlabel(\"|t|\",size=15)\n",
    "plt.ylabel(\"d$\\sigma_{tot}$ / dt\",size=15)\n",
    "plt.yscale('log')\n",
    "plt.legend()\n",
    "plt.title('H1 rho production vs fit',size=15)\n"
   ]
  },
  {
   "cell_type": "code",
   "execution_count": null,
   "id": "9575ef2b",
   "metadata": {},
   "outputs": [],
   "source": [
    "t_points_Z = np.array([0.05,0.15,0.29,0.53,0.83])\n",
    "rho_t_points_Q2_7p8 = np.array([rho_dq(0.09,0.001,-0.05,7.8),rho_dq(0.09,0.001,-0.15,7.8),rho_dq(0.09,0.001,-0.29,7.8),rho_dq(0.09,0.001,-0.53,7.8),rho_dq(0.09,0.001,-0.83,7.8)])\n",
    "rho_t_points_Q2_11p9 = np.array([rho_dq(0.09,0.001,-0.05,11.9),rho_dq(0.09,0.001,-0.15,11.9),rho_dq(0.09,0.001,-0.29,11.9),rho_dq(0.09,0.001,-0.53,11.9),rho_dq(0.09,0.001,-0.83,11.9)])\n",
    "rho_Z_7p8 = np.array([338.4,156.2,67.3,22.1,5.03])\n",
    "err_rho_Z_7p8 = np.array([18.8,15.2,5.9,3.5,1.8])\n",
    "rho_Z_11p9 = np.array([118,70.2,26.8,8.4,2.7])\n",
    "err_rho_Z_11p9 = np.array([7.6,6.5,3.1,1.6,0.7])\n",
    "rho_t_points_Q2_19p7 = np.array([rho_dq(0.09,0.002,-0.05,19.7),rho_dq(0.09,0.002,-0.15,19.7),rho_dq(0.09,0.002,-0.29,19.7),rho_dq(0.09,0.002,-0.53,19.7),rho_dq(0.09,0.002,-0.83,19.7)])\n",
    "rho_t_points_Q2_41 = np.array([rho_dq(0.09,0.005,-0.05,41),rho_dq(0.09,0.006,-0.15,41),rho_dq(0.09,0.006,-0.29,41),rho_dq(0.09,0.006,-0.53,41),rho_dq(0.09,0.006,-0.83,41)])\n",
    "rho_Z_19p7 = np.array([39.6,20.4,9.1,2.7,0.8])\n",
    "err_rho_Z_19p7 = np.array([4,2.4,1.2,0.5,0.4])\n",
    "rho_Z_44 = np.array([5.4,2.3,1.4,0.42,0.2])\n",
    "err_rho_Z_44 = np.array([1.2,0.7,0.4,0.2,0.1])"
   ]
  },
  {
   "cell_type": "code",
   "execution_count": null,
   "id": "4b2772b7",
   "metadata": {
    "scrolled": true
   },
   "outputs": [],
   "source": [
    "plt.plot(t_points_Z,rho_t_points_Q2_7p8,'g-',label='Q^2 = 7.8')\n",
    "plt.errorbar(t_points_Z,rho_Z_7p8,err_rho_Z_7p8, marker='o', color='g', ms=2, mew=4, ls='none')\n",
    "plt.plot(t_points_Z,rho_t_points_Q2_11p9,'b-',label='Q^2 = 11.9')\n",
    "plt.errorbar(t_points_Z,rho_Z_11p9,err_rho_Z_11p9, marker='o', color='b', ms=2, mew=4, ls='none')\n",
    "plt.plot(t_points_Z,rho_t_points_Q2_19p7,'r-',label='Q^2 = 19.7')\n",
    "plt.errorbar(t_points_Z,rho_Z_19p7,err_rho_Z_19p7, marker='o', color='r', ms=2, mew=4, ls='none')\n",
    "plt.plot(t_points_Z,rho_t_points_Q2_41,'k-',label='Q^2 = 41')\n",
    "plt.errorbar(t_points_Z,rho_Z_44,err_rho_Z_44, marker='o', color='k', ms=2, mew=4, ls='none')\n",
    "plt.xlabel(\"|t|\")\n",
    "plt.ylabel(\"dsig_tot / dt\")\n",
    "plt.yscale('log')\n",
    "plt.legend()\n",
    "plt.title('ZEUS vs fit for rho')"
   ]
  },
  {
   "cell_type": "code",
   "execution_count": null,
   "id": "60e00547",
   "metadata": {
    "scrolled": true
   },
   "outputs": [],
   "source": [
    "t_points_H = np.array([0.025,0.075,0.125,0.175,0.25,0.35,0.45])\n",
    "plt.plot(t_points_H,rho_t_points_Q2_6p6,'g-',label='Q^2 = 6.6')\n",
    "plt.errorbar(t_points_H,rho_H1_6p6,err_rho_H1_6p6, marker='o', color='g', ms=2, mew=4, ls='none')\n",
    "plt.plot(t_points_H,rho_t_points_Q2_11p5,'g-',label='Q^2 = 11.5')\n",
    "plt.errorbar(t_points_H,rho_H1_11p5,err_rho_H1_11p5, marker='o', color='g', ms=2, mew=4, ls='none')\n",
    "plt.plot(t_points_H,rho_t_points_Q2_17p4,'g-',label='Q^2 = 17.4')\n",
    "plt.errorbar(t_points_H,rho_H1_17p4,err_rho_H1_17p4, marker='o', color='g', ms=2, mew=4, ls='none')\n",
    "plt.plot(t_points_H,rho_t_points_Q2_33,'g-',label='Q^2 = 33')\n",
    "plt.errorbar(t_points_H,rho_H1_33,err_rho_H1_33, marker='o', color='g', ms=2, mew=4, ls='none')\n",
    "plt.plot(t_points_Z,rho_t_points_Q2_7p8,'b-',label='Q^2 = 7.8')\n",
    "plt.errorbar(t_points_Z,rho_Z_7p8,err_rho_Z_7p8, marker='v', color='b', ms=2, mew=4, ls='none')\n",
    "plt.plot(t_points_Z,rho_t_points_Q2_11p9,'b-',label='Q^2 = 11.9')\n",
    "plt.errorbar(t_points_Z,rho_Z_11p9,err_rho_Z_11p9, marker='v', color='b', ms=2, mew=4, ls='none')\n",
    "plt.plot(t_points_Z,rho_t_points_Q2_19p7,'b-',label='Q^2 = 19.7')\n",
    "plt.errorbar(t_points_Z,rho_Z_19p7,err_rho_Z_19p7, marker='v', color='b', ms=2, mew=4, ls='none')\n",
    "plt.plot(t_points_Z,rho_t_points_Q2_41,'b-',label='Q^2 = 41')\n",
    "plt.errorbar(t_points_Z,rho_Z_44,err_rho_Z_44, marker='o', color='b', ms=2, mew=4, ls='none')\n",
    "plt.xlabel(\"|t|\")\n",
    "plt.ylabel(\"dsig_tot / dt\")\n",
    "plt.yscale('log')\n",
    "plt.legend()\n",
    "plt.title('H1 and ZEUS vs fit for rho')"
   ]
  },
  {
   "cell_type": "markdown",
   "id": "361c0157",
   "metadata": {},
   "source": [
    "# PDFs from $\\rho^0$ "
   ]
  },
  {
   "cell_type": "code",
   "execution_count": null,
   "id": "1af0b769",
   "metadata": {},
   "outputs": [],
   "source": [
    "PDF_data = pd.read_csv('GUMPDATA/PDFdata.csv',       header = None, names = ['x', 't', 'Q', 'f', 'delta f', 'spe', 'flv'],        dtype = {'x': float, 't': float, 'Q': float, 'f': float, 'delta f': float,'spe': int, 'flv': str})\n",
    "PDF_data_H  = PDF_data[PDF_data['spe'] == 0]\n",
    "PDF_data_H_g = PDF_data_H[PDF_data_H['flv'] == 'g']\n",
    "H_g_data = np.array(PDF_data_H_g['f'])\n",
    "H_g_err = np.array(PDF_data_H_g['delta f'])\n",
    "x_pts = np.array(PDF_data_H_g['x'])"
   ]
  },
  {
   "cell_type": "code",
   "execution_count": null,
   "id": "e825884a",
   "metadata": {},
   "outputs": [],
   "source": [
    "H_g_rho = minim.PDF_theo(PDF_data_H_g,Para_Unp_All_rho)"
   ]
  },
  {
   "cell_type": "code",
   "execution_count": null,
   "id": "d00542ba",
   "metadata": {},
   "outputs": [],
   "source": [
    "plt.plot(x_pts,np.real(H_g_rho),'b-')\n",
    "plt.errorbar(x_pts,H_g_data,H_g_err, marker='o', color='r', ms=2, mew=4, ls='none')\n",
    "plt.title('rho Fit PDF vs Global PDF')\n",
    "plt.xlabel('$x_B$')\n",
    "plt.ylabel('$H_g (x, 0, 0)$')\n",
    "plt.yscale('log')\n",
    "plt.show()"
   ]
  },
  {
   "cell_type": "code",
   "execution_count": null,
   "id": "5b5bdd24",
   "metadata": {},
   "outputs": [],
   "source": [
    "import Evolution as evol"
   ]
  },
  {
   "cell_type": "code",
   "execution_count": null,
   "id": "d17692c4",
   "metadata": {},
   "outputs": [],
   "source": [
    "def evQ(Q):\n",
    "    return evol.evolop(0.25, 2, 1, Q)"
   ]
  },
  {
   "cell_type": "code",
   "execution_count": null,
   "id": "76806f60",
   "metadata": {},
   "outputs": [],
   "source": [
    "print(evQ(4),evQ(8),evQ(16),evQ(32))"
   ]
  },
  {
   "cell_type": "code",
   "execution_count": null,
   "id": "5dabe307",
   "metadata": {},
   "outputs": [],
   "source": []
  },
  {
   "cell_type": "markdown",
   "id": "cae48bbb",
   "metadata": {},
   "source": [
    "# DVCS tests"
   ]
  },
  {
   "cell_type": "code",
   "execution_count": null,
   "id": "b779162e",
   "metadata": {},
   "outputs": [],
   "source": [
    "\n",
    "# Best fit parameters from Yuxun's global fits\n",
    "\n",
    "\n",
    "\n",
    "Paralst_Unp_dvcs = [4.92252245341075, 0.21632833928300776, 3.228525762889928, 2.347470994624827, 0.16344460105600744, 1.135739437288775, 6.893895640954224, 0.15, 3.358767931921898, 0.1842893653407356, 4.417802345266761, 3.4816671934041685, 0.2491737223289409, 1.0519258916411531, 6.553873836594824, 2.8642810381756982, 1.0523058580968585, 7.412779706371915, 0.15, 0.1813228421702434, 0.9068471909677753, 1.1018931174030364, 0.4607676086634599, -0.22341404954304522, 0.7683213780361391, 0.22948701913308733, -2.638627981453611, 0.0, 0.7985103392773935, 3.404262017724412, 0.0, 0.0, 0.0, 0.0, 0.0, 0.0, 0.0, 3.44764738950069,3.44764738950069, 1]\n",
    "\n",
    "Paralst_Pol_dvcs = [4.833430384423373, -0.26355746727810136, 3.1855567245326317, 2.1817250267982997, 0.06994083000560514, 0.5376473088622284, 4.22898219488582, 0.15, -0.663583721889865, 0.24767388786943867, 3.5722668493718626, 0.5420415127277624, -0.08640413690298866, 0.4946733452347538, 2.553713733867575, 0.24307061469378405, 0.6309890923077655, 2.716624295877619, 0.15, 7.99299605623125, 0.799997370438831, 6.415448025778247, 2.0758963463111515, -2.407059919688728, 37.65971219196447, 0.24589373380232807, 1.6561364171210822, 0.0, 2.6840962695831894, 37.58453653636456, 0.0, 0.0, 0.0, 0.0, 0.0, 0.0, 0.0, 9.852441955678458]\n",
    "\n",
    "Para_Unp_All_dvcs    = ParaManager_Unp(Paralst_Unp_dvcs)\n",
    "Para_Pol_All_dvcs    = ParaManager_Pol(Paralst_Pol_dvcs)\n",
    "\n",
    "\n",
    "def dvcs_dq(y,xB,t,Q):\n",
    "    \n",
    "    [HCFF, ECFF, HtCFF, EtCFF] = minim.CFF_theo(xB, t, np.sqrt(Q), Para_Unp_All_dvcs, Para_Pol_All_dvcs)\n",
    "    \n",
    "    return dvcs.dsigma_DVCS_HERA(y, xB, t, np.sqrt(Q), \"UU\", HCFF, ECFF, HtCFF, EtCFF)\n",
    "\n",
    "\n",
    "\n"
   ]
  },
  {
   "cell_type": "code",
   "execution_count": null,
   "id": "df69a08e",
   "metadata": {},
   "outputs": [],
   "source": [
    "q_pts_dvcs = np.array([8, 10, 12, 14, 16, 18, 20])\n",
    "\n",
    "plt.plot(q_pts_dvcs, dvcs_dq(0.1, 0.0001, -0.1, q_pts_dvcs),'r')\n",
    "plt.plot(q_pts_dvcs, dvcs_dq(0.1, 0.0001, -0.1, 8)*((8/q_pts_dvcs)**1.5),'p-')\n",
    "plt.plot(q_pts_dvcs, dvcs_dq(0.1, 0.001, -0.1, q_pts_dvcs),'g')\n",
    "plt.plot(q_pts_dvcs, dvcs_dq(0.1, 0.001, -0.1, 8)*((8/q_pts_dvcs)**1.5),'p-')\n",
    "plt.plot(q_pts_dvcs, dvcs_dq(0.1, 0.005, -0.1, q_pts_dvcs),'b')\n",
    "plt.plot(q_pts_dvcs, dvcs_dq(0.1, 0.005, -0.1, 8)*((8/q_pts_dvcs)**1.5),'p-')\n",
    "plt.xlabel('$Q^2$')\n",
    "plt.ylabel('$d \\sigma / dt$')\n",
    "plt.yscale('log')\n",
    "plt.show()"
   ]
  },
  {
   "cell_type": "code",
   "execution_count": null,
   "id": "364441cf",
   "metadata": {},
   "outputs": [],
   "source": []
  }
 ],
 "metadata": {
  "kernelspec": {
   "display_name": "Python 3 (ipykernel)",
   "language": "python",
   "name": "python3"
  },
  "language_info": {
   "codemirror_mode": {
    "name": "ipython",
    "version": 3
   },
   "file_extension": ".py",
   "mimetype": "text/x-python",
   "name": "python",
   "nbconvert_exporter": "python",
   "pygments_lexer": "ipython3",
   "version": "3.9.12"
  }
 },
 "nbformat": 4,
 "nbformat_minor": 5
}
