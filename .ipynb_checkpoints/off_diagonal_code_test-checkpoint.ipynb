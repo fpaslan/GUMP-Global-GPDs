{
 "cells": [
  {
   "cell_type": "code",
   "execution_count": 1,
   "id": "4b147215",
   "metadata": {},
   "outputs": [
    {
     "name": "stderr",
     "output_type": "stream",
     "text": [
      "/Users/suracnf/Documents/CNF/GUMP_program/vectorized_GUMP_copy/DVMP_xsec.py:78: NumbaWarning: \u001b[1m\n",
      "Compilation is falling back to object mode WITHOUT looplifting enabled because Function \"dsigma_rho_dt\" failed type inference due to: \u001b[1m\u001b[1mNo conversion from complex128 to float64 for '$156return_value.77', defined at None\n",
      "\u001b[1m\n",
      "File \"DVMP_xsec.py\", line 94:\u001b[0m\n",
      "\u001b[1mdef dsigma_rho_dt(y: float, xB: float, t: float, Q: float, phi: float, HTFF_rho: complex, ETFF_rho: complex):\n",
      "    <source elided>\n",
      "    \n",
      "\u001b[1m    return gevtonb * ((1 - y) / (1 - y - y**2 / 2) + (1 + 2.2 * Q**2 / M_rho**2)**0.451 * M_rho**2 / Q**2) * 2 * np.pi * alphaEM * xB**2 * ev.CF**2 * ev.AlphaS(2,2,Q)**2 * HTFF_rho * Conjugate(HTFF_rho) / Q**6 / ev.NC**2\n",
      "\u001b[0m    \u001b[1m^\u001b[0m\u001b[0m\n",
      "\u001b[0m\n",
      "\u001b[0m\u001b[1mDuring: typing of assignment at /Users/suracnf/Documents/CNF/GUMP_program/vectorized_GUMP_copy/DVMP_xsec.py (94)\u001b[0m\n",
      "\u001b[1m\n",
      "File \"DVMP_xsec.py\", line 94:\u001b[0m\n",
      "\u001b[1mdef dsigma_rho_dt(y: float, xB: float, t: float, Q: float, phi: float, HTFF_rho: complex, ETFF_rho: complex):\n",
      "    <source elided>\n",
      "    \n",
      "\u001b[1m    return gevtonb * ((1 - y) / (1 - y - y**2 / 2) + (1 + 2.2 * Q**2 / M_rho**2)**0.451 * M_rho**2 / Q**2) * 2 * np.pi * alphaEM * xB**2 * ev.CF**2 * ev.AlphaS(2,2,Q)**2 * HTFF_rho * Conjugate(HTFF_rho) / Q**6 / ev.NC**2\n",
      "\u001b[0m    \u001b[1m^\u001b[0m\u001b[0m\n",
      "\u001b[0m\n",
      "  @vectorize([\"float64(float64,float64,float64,float64,float64,complex128,complex128)\"])\n",
      "/opt/anaconda3/lib/python3.9/site-packages/numba/core/object_mode_passes.py:151: NumbaWarning: \u001b[1mFunction \"dsigma_rho_dt\" was compiled in object mode without forceobj=True.\n",
      "\u001b[1m\n",
      "File \"DVMP_xsec.py\", line 79:\u001b[0m\n",
      "\u001b[1m@vectorize([\"float64(float64,float64,float64,float64,float64,complex128,complex128)\"])\n",
      "\u001b[1mdef dsigma_rho_dt(y: float, xB: float, t: float, Q: float, phi: float, HTFF_rho: complex, ETFF_rho: complex):\n",
      "\u001b[0m\u001b[1m^\u001b[0m\u001b[0m\n",
      "\u001b[0m\n",
      "  warnings.warn(errors.NumbaWarning(warn_msg,\n",
      "/opt/anaconda3/lib/python3.9/site-packages/numba/core/object_mode_passes.py:161: NumbaDeprecationWarning: \u001b[1m\n",
      "Fall-back from the nopython compilation path to the object mode compilation path has been detected, this is deprecated behaviour.\n",
      "\n",
      "For more information visit https://numba.readthedocs.io/en/stable/reference/deprecation.html#deprecation-of-object-mode-fall-back-behaviour-when-using-jit\n",
      "\u001b[1m\n",
      "File \"DVMP_xsec.py\", line 79:\u001b[0m\n",
      "\u001b[1m@vectorize([\"float64(float64,float64,float64,float64,float64,complex128,complex128)\"])\n",
      "\u001b[1mdef dsigma_rho_dt(y: float, xB: float, t: float, Q: float, phi: float, HTFF_rho: complex, ETFF_rho: complex):\n",
      "\u001b[0m\u001b[1m^\u001b[0m\u001b[0m\n",
      "\u001b[0m\n",
      "  warnings.warn(errors.NumbaDeprecationWarning(msg,\n",
      "/Users/suracnf/Documents/CNF/GUMP_program/vectorized_GUMP_copy/DVMP_xsec.py:100: NumbaWarning: \u001b[1m\n",
      "Compilation is falling back to object mode WITHOUT looplifting enabled because Function \"dsigma_phi_dt\" failed type inference due to: \u001b[1m\u001b[1mNo conversion from complex128 to float64 for '$548return_value.273', defined at None\n",
      "\u001b[1m\n",
      "File \"DVMP_xsec.py\", line 108:\u001b[0m\n",
      "\u001b[1mdef dsigma_phi_dt(y: float, xB: float, t: float, Q: float, phi: float, HTFF_phi: complex, ETFF_phi: complex):\n",
      "    <source elided>\n",
      "    \"\"\"\n",
      "\u001b[1m    return prefac_phi(y, xB, t, Q, phi) * ((4 * (1 - xB) * (1 - xB * (m2(xB, Q, t) - t) / (Q ** 2)) - (m2(xB, Q, t) * eps(xB, Q) ** 2 / (M_p ** 2))) / ((2 - xB - (xB * (m2(xB, Q, t) - t) / Q ** 2)) ** 2) * (HTFF_phi - ((xB ** 2 * ((1 + (m2(xB, Q, t) - t) / Q ** 2) ** 2) + 4 * xB * t / Q ** 2) * ETFF_phi / (4 * (1 - xB) * (1 - xB * (m2(xB, Q, t) - t) / Q ** 2) - (m2(xB, Q, t) * eps(xB,Q) ** 2 / M_p ** 2)))) * Conjugate((HTFF_phi - ((xB ** 2 * ((1 + (m2(xB, Q, t) - t) / Q ** 2) ** 2) + 4 * xB * t / Q ** 2) * ETFF_phi / (4 * (1 - xB) * (1 - xB * (m2(xB, Q, t) - t) / Q ** 2) - (m2(xB, Q, t) * eps(xB,Q) ** 2 / M_p ** 2))))) + (K(xB, Q, t) ** 2 * ETFF_phi * Conjugate(ETFF_phi) / 4 / M_p ** 2 / ((1 - xB) * (1 - xB * (m2(xB, Q, t) - t) / Q ** 2) - (m2(xB, Q, t) * eps(xB, Q) ** 2 / 4 / M_p ** 2))))\n",
      "\u001b[0m    \u001b[1m^\u001b[0m\u001b[0m\n",
      "\u001b[0m\n",
      "\u001b[0m\u001b[1mDuring: typing of assignment at /Users/suracnf/Documents/CNF/GUMP_program/vectorized_GUMP_copy/DVMP_xsec.py (108)\u001b[0m\n",
      "\u001b[1m\n",
      "File \"DVMP_xsec.py\", line 108:\u001b[0m\n",
      "\u001b[1mdef dsigma_phi_dt(y: float, xB: float, t: float, Q: float, phi: float, HTFF_phi: complex, ETFF_phi: complex):\n",
      "    <source elided>\n",
      "    \"\"\"\n",
      "\u001b[1m    return prefac_phi(y, xB, t, Q, phi) * ((4 * (1 - xB) * (1 - xB * (m2(xB, Q, t) - t) / (Q ** 2)) - (m2(xB, Q, t) * eps(xB, Q) ** 2 / (M_p ** 2))) / ((2 - xB - (xB * (m2(xB, Q, t) - t) / Q ** 2)) ** 2) * (HTFF_phi - ((xB ** 2 * ((1 + (m2(xB, Q, t) - t) / Q ** 2) ** 2) + 4 * xB * t / Q ** 2) * ETFF_phi / (4 * (1 - xB) * (1 - xB * (m2(xB, Q, t) - t) / Q ** 2) - (m2(xB, Q, t) * eps(xB,Q) ** 2 / M_p ** 2)))) * Conjugate((HTFF_phi - ((xB ** 2 * ((1 + (m2(xB, Q, t) - t) / Q ** 2) ** 2) + 4 * xB * t / Q ** 2) * ETFF_phi / (4 * (1 - xB) * (1 - xB * (m2(xB, Q, t) - t) / Q ** 2) - (m2(xB, Q, t) * eps(xB,Q) ** 2 / M_p ** 2))))) + (K(xB, Q, t) ** 2 * ETFF_phi * Conjugate(ETFF_phi) / 4 / M_p ** 2 / ((1 - xB) * (1 - xB * (m2(xB, Q, t) - t) / Q ** 2) - (m2(xB, Q, t) * eps(xB, Q) ** 2 / 4 / M_p ** 2))))\n",
      "\u001b[0m    \u001b[1m^\u001b[0m\u001b[0m\n",
      "\u001b[0m\n",
      "  @vectorize([\"float64(float64,float64,float64,float64,float64,complex128,complex128)\"])\n",
      "/opt/anaconda3/lib/python3.9/site-packages/numba/core/object_mode_passes.py:151: NumbaWarning: \u001b[1mFunction \"dsigma_phi_dt\" was compiled in object mode without forceobj=True.\n",
      "\u001b[1m\n",
      "File \"DVMP_xsec.py\", line 101:\u001b[0m\n",
      "\u001b[1m@vectorize([\"float64(float64,float64,float64,float64,float64,complex128,complex128)\"])    \n",
      "\u001b[1mdef dsigma_phi_dt(y: float, xB: float, t: float, Q: float, phi: float, HTFF_phi: complex, ETFF_phi: complex):\n",
      "\u001b[0m\u001b[1m^\u001b[0m\u001b[0m\n",
      "\u001b[0m\n",
      "  warnings.warn(errors.NumbaWarning(warn_msg,\n",
      "/opt/anaconda3/lib/python3.9/site-packages/numba/core/object_mode_passes.py:161: NumbaDeprecationWarning: \u001b[1m\n",
      "Fall-back from the nopython compilation path to the object mode compilation path has been detected, this is deprecated behaviour.\n",
      "\n",
      "For more information visit https://numba.readthedocs.io/en/stable/reference/deprecation.html#deprecation-of-object-mode-fall-back-behaviour-when-using-jit\n",
      "\u001b[1m\n",
      "File \"DVMP_xsec.py\", line 101:\u001b[0m\n",
      "\u001b[1m@vectorize([\"float64(float64,float64,float64,float64,float64,complex128,complex128)\"])    \n",
      "\u001b[1mdef dsigma_phi_dt(y: float, xB: float, t: float, Q: float, phi: float, HTFF_phi: complex, ETFF_phi: complex):\n",
      "\u001b[0m\u001b[1m^\u001b[0m\u001b[0m\n",
      "\u001b[0m\n",
      "  warnings.warn(errors.NumbaDeprecationWarning(msg,\n",
      "/Users/suracnf/Documents/CNF/GUMP_program/vectorized_GUMP_copy/DVMP_xsec.py:113: NumbaWarning: \u001b[1m\n",
      "Compilation is falling back to object mode WITHOUT looplifting enabled because Function \"dsigma_Jpsi_dt\" failed type inference due to: \u001b[1m\u001b[1mNo conversion from complex128 to float64 for '$698return_value.348', defined at None\n",
      "\u001b[1m\n",
      "File \"DVMP_xsec.py\", line 123:\u001b[0m\n",
      "\u001b[1mdef dsigma_Jpsi_dt(y: float, xB: float, t: float, Q: float, phi: float, HTFF_jpsi: complex, ETFF_jpsi: complex):\n",
      "    <source elided>\n",
      "    # Version including mass corrections! Extra factor of 3 C_F**2 needed to account for different factors included in gluon TFF. \n",
      "\u001b[1m    return ((1 - y) / (1 - y - y**2 / 2) + M_jpsi**2 / Q**2) * gevtonb * 4 / 9 * 2 * np.pi**2 * alphaEM * ev.AlphaS(2, 2, np.sqrt(Q**2 + M_jpsi**2))**2 * ev.CF**2 * Q**2 * (((1 - (xB / (2 - xB))**2) * (HTFF_jpsi - (xB**2 / 4 / (1-xB)) * ETFF_jpsi) * Conjugate(HTFF_jpsi - (xB**2 / 4 / (1-xB)) * ETFF_jpsi) / ev.NC**2 / (M_jpsi**2 + Q**2)**2 / ((M_jpsi**2 + Q**2) / xB - Q**2 - M_p**2) / np.sqrt(((M_jpsi**2 + Q**2) / xB - Q**2)**2 + Q**4 + M_p**4 + 2 * ((M_jpsi**2 + Q**2) / xB - Q**2) * Q**2 + 2 * Q**2 * M_p**2 - 2 * ((M_jpsi**2 + Q**2) / xB - Q**2) * M_p**2)) + (((-t - (M_p**2 * xB**2 / (1-xB))) / 2 / M_p) * (ETFF_jpsi) * Conjugate(ETFF_jpsi) / ev.NC**2 / (M_jpsi**2 + Q**2)**2 / ((M_jpsi**2 + Q**2) / xB - Q**2 - M_p**2) / np.sqrt(((M_jpsi**2 + Q**2) / xB - Q**2)**2 + Q**4 + M_p**4 + 2 * ((M_jpsi**2 + Q**2) / xB - Q**2) * Q**2 + 2 * Q**2 * M_p**2 - 2 * ((M_jpsi**2 + Q**2) / xB - Q**2) * M_p**2)))\n",
      "\u001b[0m    \u001b[1m^\u001b[0m\u001b[0m\n",
      "\u001b[0m\n",
      "\u001b[0m\u001b[1mDuring: typing of assignment at /Users/suracnf/Documents/CNF/GUMP_program/vectorized_GUMP_copy/DVMP_xsec.py (123)\u001b[0m\n",
      "\u001b[1m\n",
      "File \"DVMP_xsec.py\", line 123:\u001b[0m\n",
      "\u001b[1mdef dsigma_Jpsi_dt(y: float, xB: float, t: float, Q: float, phi: float, HTFF_jpsi: complex, ETFF_jpsi: complex):\n",
      "    <source elided>\n",
      "    # Version including mass corrections! Extra factor of 3 C_F**2 needed to account for different factors included in gluon TFF. \n",
      "\u001b[1m    return ((1 - y) / (1 - y - y**2 / 2) + M_jpsi**2 / Q**2) * gevtonb * 4 / 9 * 2 * np.pi**2 * alphaEM * ev.AlphaS(2, 2, np.sqrt(Q**2 + M_jpsi**2))**2 * ev.CF**2 * Q**2 * (((1 - (xB / (2 - xB))**2) * (HTFF_jpsi - (xB**2 / 4 / (1-xB)) * ETFF_jpsi) * Conjugate(HTFF_jpsi - (xB**2 / 4 / (1-xB)) * ETFF_jpsi) / ev.NC**2 / (M_jpsi**2 + Q**2)**2 / ((M_jpsi**2 + Q**2) / xB - Q**2 - M_p**2) / np.sqrt(((M_jpsi**2 + Q**2) / xB - Q**2)**2 + Q**4 + M_p**4 + 2 * ((M_jpsi**2 + Q**2) / xB - Q**2) * Q**2 + 2 * Q**2 * M_p**2 - 2 * ((M_jpsi**2 + Q**2) / xB - Q**2) * M_p**2)) + (((-t - (M_p**2 * xB**2 / (1-xB))) / 2 / M_p) * (ETFF_jpsi) * Conjugate(ETFF_jpsi) / ev.NC**2 / (M_jpsi**2 + Q**2)**2 / ((M_jpsi**2 + Q**2) / xB - Q**2 - M_p**2) / np.sqrt(((M_jpsi**2 + Q**2) / xB - Q**2)**2 + Q**4 + M_p**4 + 2 * ((M_jpsi**2 + Q**2) / xB - Q**2) * Q**2 + 2 * Q**2 * M_p**2 - 2 * ((M_jpsi**2 + Q**2) / xB - Q**2) * M_p**2)))\n",
      "\u001b[0m    \u001b[1m^\u001b[0m\u001b[0m\n",
      "\u001b[0m\n",
      "  @vectorize([\"float64(float64,float64,float64,float64,float64,complex128,complex128)\"])\n"
     ]
    },
    {
     "name": "stderr",
     "output_type": "stream",
     "text": [
      "/opt/anaconda3/lib/python3.9/site-packages/numba/core/object_mode_passes.py:151: NumbaWarning: \u001b[1mFunction \"dsigma_Jpsi_dt\" was compiled in object mode without forceobj=True.\n",
      "\u001b[1m\n",
      "File \"DVMP_xsec.py\", line 114:\u001b[0m\n",
      "\u001b[1m@vectorize([\"float64(float64,float64,float64,float64,float64,complex128,complex128)\"])    \n",
      "\u001b[1mdef dsigma_Jpsi_dt(y: float, xB: float, t: float, Q: float, phi: float, HTFF_jpsi: complex, ETFF_jpsi: complex):\n",
      "\u001b[0m\u001b[1m^\u001b[0m\u001b[0m\n",
      "\u001b[0m\n",
      "  warnings.warn(errors.NumbaWarning(warn_msg,\n",
      "/opt/anaconda3/lib/python3.9/site-packages/numba/core/object_mode_passes.py:161: NumbaDeprecationWarning: \u001b[1m\n",
      "Fall-back from the nopython compilation path to the object mode compilation path has been detected, this is deprecated behaviour.\n",
      "\n",
      "For more information visit https://numba.readthedocs.io/en/stable/reference/deprecation.html#deprecation-of-object-mode-fall-back-behaviour-when-using-jit\n",
      "\u001b[1m\n",
      "File \"DVMP_xsec.py\", line 114:\u001b[0m\n",
      "\u001b[1m@vectorize([\"float64(float64,float64,float64,float64,float64,complex128,complex128)\"])    \n",
      "\u001b[1mdef dsigma_Jpsi_dt(y: float, xB: float, t: float, Q: float, phi: float, HTFF_jpsi: complex, ETFF_jpsi: complex):\n",
      "\u001b[0m\u001b[1m^\u001b[0m\u001b[0m\n",
      "\u001b[0m\n",
      "  warnings.warn(errors.NumbaDeprecationWarning(msg,\n"
     ]
    }
   ],
   "source": [
    "import Minimizer as minim\n",
    "import Observables_nd_terms as obs\n",
    "import Evolution_nd_terms as ev\n",
    "from Parameters import ParaManager_Unp, ParaManager_Pol\n",
    "import numpy as np\n",
    "from numpy import real as Real\n",
    "from numpy import imag as Imag\n",
    "\n",
    "from numpy import conjugate as Conjugate\n",
    "import scipy as sp\n",
    "import matplotlib.pyplot as plt\n"
   ]
  },
  {
   "cell_type": "code",
   "execution_count": 2,
   "id": "e6acead0",
   "metadata": {},
   "outputs": [],
   "source": [
    "M_p = 0.938\n",
    "M_n = 0.940\n",
    "M_rho = 0.775\n",
    "M_phi = 1.019\n",
    "M_jpsi = 3.097\n",
    "gevtonb = 389.9 * 1000\n",
    "alphaEM = 1 / 137.036"
   ]
  },
  {
   "cell_type": "code",
   "execution_count": 8,
   "id": "8f0a030f",
   "metadata": {},
   "outputs": [],
   "source": [
    "# You might need to define these functions if they are not already in Minimizer.py\n",
    "\n",
    "def TFF_theo_jpsi_NLO(xB, t, Q, Para_Unp):\n",
    "    x = 0\n",
    "    xi = (1/(2 - xB) - (2*t*(-1 + xB))/((Q**2 + M_jpsi**2)*(-2 + xB)**2))*xB\n",
    "    H_E = obs.GPDobserv(x, xi, t, np.sqrt(Q**2 + M_jpsi**2), 1)\n",
    "    HTFF_jpsi = H_E.TFFNLO_off_diag(Para_Unp[..., 0, :, :, :, :],3)\n",
    "    ETFF_jpsi = H_E.TFFNLO_off_diag(Para_Unp[..., 1, :, :, :, :],3)\n",
    "    \n",
    "\n",
    "    return  [ HTFF_jpsi, ETFF_jpsi ]\n",
    "\n",
    "def TFF_theo_jpsi_NLO_moments(xB, t, Q, Para_Unp):\n",
    "    x = 0\n",
    "    xi = (1/(2 - xB) - (2*t*(-1 + xB))/((Q**2 + M_jpsi**2)*(-2 + xB)**2))*xB\n",
    "    H_E = obs.GPDobserv(x, xi, t, np.sqrt(Q**2 + M_jpsi**2), 1)\n",
    "    HTFF_jpsi = H_E.TFF_moments_off_diag(Para_Unp[..., 0, :, :, :, :],3)\n",
    "    ETFF_jpsi = H_E.TFF_moments_off_diag(Para_Unp[..., 1, :, :, :, :],3)\n",
    "    \n",
    "\n",
    "    return  [ HTFF_jpsi, ETFF_jpsi ]"
   ]
  },
  {
   "cell_type": "code",
   "execution_count": 9,
   "id": "233448fb",
   "metadata": {},
   "outputs": [],
   "source": [
    "# Call parameters from fits, can adjust them for testing if desired.\n",
    "Paralst_Unp = [4.92252245341075, 0.21632833928300776, 3.228525762889928, 2.347470994624827, 0.16344460105600744, 1.135739437288775, 6.893895640954224, 0.15, 3.358767931921898, 0.1842893653407356, 4.417802345266761, 3.4816671934041685, 0.2491737223289409, 1.0519258916411531, 6.553873836594824, 1.7855210229543417, 1.0999116849812425, 9.999999999974529, 0.15, 0.1813228421702434, 0.9068471909677753, 1.1018931174030364, 0.4607676086634599, -0.22341404954304522, 0.7683213780361391, 0.22948701913308733, -2.638627981453611, 0.09764431092977295, 0.7985103392773935, 3.404262017724412, 0.0, 0.0, 0.0, 0.0, 0.0, 0.0, 0.0, 3.44764738950069, 1.650389401254557, 0.7241229634346787, 0.6]\n",
    "Para_Unp = ParaManager_Unp(Paralst_Unp)"
   ]
  },
  {
   "cell_type": "code",
   "execution_count": 10,
   "id": "1aeae873",
   "metadata": {},
   "outputs": [],
   "source": [
    "# Functions for printing out off-diagonal piece of NLO TFFs as functions of xB, t and Q\n",
    "\n",
    "def jpsi_TFF(xB,t,Q):\n",
    "    \n",
    "    [HTFF_NLO_jpsi, ETFF_NLO_jpsi] = TFF_theo_jpsi_NLO(xB, t, np.sqrt(Q), Para_Unp)\n",
    "    \n",
    "    return HTFF_NLO_jpsi\n",
    "\n",
    "def jpsi_TFF_moments(xB,t,Q):\n",
    "    \n",
    "    [HTFF_NLO_jpsi, ETFF_NLO_jpsi] = TFF_theo_jpsi_NLO_moments(xB, t, np.sqrt(Q), Para_Unp)\n",
    "    \n",
    "    return HTFF_NLO_jpsi"
   ]
  },
  {
   "cell_type": "code",
   "execution_count": 6,
   "id": "e0f9bd31",
   "metadata": {},
   "outputs": [
    {
     "name": "stdout",
     "output_type": "stream",
     "text": [
      "evolved coeffs. (2026.0375436083457-1458.7740335045787j)\n"
     ]
    }
   ],
   "source": [
    "print('evolved coeffs.',jpsi_TFF(0.0013,-0.04,3.2))"
   ]
  },
  {
   "cell_type": "code",
   "execution_count": 11,
   "id": "e3eeb943",
   "metadata": {},
   "outputs": [
    {
     "name": "stdout",
     "output_type": "stream",
     "text": [
      "moms. (-0.016453157397336327-19350.847667448004j)\n"
     ]
    }
   ],
   "source": [
    "print('moms.',jpsi_TFF_moments(0.0013,-0.04,3.2))\n"
   ]
  },
  {
   "cell_type": "code",
   "execution_count": null,
   "id": "908c57c4",
   "metadata": {},
   "outputs": [],
   "source": []
  }
 ],
 "metadata": {
  "kernelspec": {
   "display_name": "Python 3 (ipykernel)",
   "language": "python",
   "name": "python3"
  },
  "language_info": {
   "codemirror_mode": {
    "name": "ipython",
    "version": 3
   },
   "file_extension": ".py",
   "mimetype": "text/x-python",
   "name": "python",
   "nbconvert_exporter": "python",
   "pygments_lexer": "ipython3",
   "version": "3.9.12"
  }
 },
 "nbformat": 4,
 "nbformat_minor": 5
}
