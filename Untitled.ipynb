{
 "cells": [
  {
   "cell_type": "code",
   "execution_count": 2,
   "id": "8200e4b7-63c1-4c31-9080-dd2bc58089b9",
   "metadata": {
    "tags": []
   },
   "outputs": [],
   "source": [
    "# from cmath import exp\n",
    "# from scipy.special import loggamma as clngamma\n",
    "#from this import d\n",
    "\n",
    "import numpy as np\n",
    "from Parameters import Moment_Sum\n",
    "from scipy.special import psi, zeta, gamma, orthogonal, loggamma\n",
    "from math import factorial, log\n",
    "from mpmath import mp, hyp2f1\n",
    "from typing import Tuple, Union\n",
    "from numba import vectorize, njit\n",
    "import functools"
   ]
  },
  {
   "cell_type": "code",
   "execution_count": 8,
   "id": "2f60b9e3-5378-4147-ad97-7dd1476a8897",
   "metadata": {
    "tags": []
   },
   "outputs": [
    {
     "data": {
      "text/plain": [
       "'\\n***********************pQCD running coupling constant***********************\\nHere rundec is used instead.\\n'"
      ]
     },
     "execution_count": 8,
     "metadata": {},
     "output_type": "execute_result"
    }
   ],
   "source": [
    "M_jpsi = 3.097\n",
    "NC = 3\n",
    "CF = (NC**2 - 1) / (2 * NC)\n",
    "CA = NC\n",
    "CG = CF - CA/2\n",
    "TF = 0.5\n",
    "Alpha_Mz = 0.1181\n",
    "# All unit in GeV for dimensional quantities.\n",
    "Mz = 91.1876\n",
    "# One loop accuracy for running strong coupling constant. \n",
    "nloop_alphaS = 2\n",
    "# Initial scale of distribution functions at 2 GeV.\n",
    "Init_Scale_Q = 2\n",
    "\n",
    "# Transform the original flavor basis to the evolution basis (qVal, q_du_plus, q_du_minus, qSigma, g)\n",
    "# The same basis for PDF evolution are used, check references.\n",
    "\n",
    "flav_trans =np.array([[1, 0, 1, 0, 0],\n",
    "                     [-1, -2, 1, 2, 0],\n",
    "                     [-1, 0, 1, 0 , 0],\n",
    "                     [1, 2, 1, 2, 0],\n",
    "                     [0, 0, 0, 0, 1]])\n",
    "\n",
    "inv_flav_trans = np.linalg.inv(flav_trans)\n",
    "\n",
    "f_rho= 0.209 \n",
    "f_phi = 0.221 # Change to 0.233\n",
    "f_jpsi = 0.406\n",
    "\n",
    "\"\"\"\n",
    "***********************pQCD running coupling constant***********************\n",
    "Here rundec is used instead.\n",
    "\"\"\"\n"
   ]
  },
  {
   "cell_type": "code",
   "execution_count": 10,
   "id": "9d47cccc-8c77-425b-9e25-1f2e42e772f7",
   "metadata": {
    "tags": []
   },
   "outputs": [],
   "source": [
    "B00 = 11./3. * CA\n",
    "B01 = -4./3. * TF\n",
    "B10 = 34./3. * CA**2\n",
    "B11 = -20./3. * CA*TF - 4. * CF*TF\n",
    "\n",
    "@njit([\"float64(int32)\"])\n",
    "def beta0(nf: int) -> float:\n",
    "    \"\"\" LO beta function of pQCD, will be used for LO GPD evolution. \"\"\"\n",
    "    return - B00 - B01 * nf"
   ]
  },
  {
   "cell_type": "code",
   "execution_count": 16,
   "id": "910173d4-5d1f-4418-a97c-a3523bdb370d",
   "metadata": {
    "tags": []
   },
   "outputs": [
    {
     "data": {
      "text/plain": [
       "-8.333333333333334"
      ]
     },
     "execution_count": 16,
     "metadata": {},
     "output_type": "execute_result"
    }
   ],
   "source": [
    "beta0(4)"
   ]
  },
  {
   "cell_type": "code",
   "execution_count": 32,
   "id": "f74eb267-e464-4b5b-84d6-ee19f4c0bccc",
   "metadata": {
    "tags": []
   },
   "outputs": [],
   "source": [
    "def MellinLi2(n: Union[complex, np.ndarray],signx:int) -> Union[complex, np.ndarray]:\n",
    "    \"\"\"Return Mellin transform  i.e. x^(N-1) moment of Li2(x)/(1+x) and Li2(-x)/(1+x) \n",
    "\n",
    "    Args:\n",
    "        n: complex argument\n",
    "        signx: integer, 1 for  Li2(x)/(1+x) and -1 for Li2(-x)/(1+x) \n",
    "\n",
    "    Returns:\n",
    "        According to Eq.(60) and Eq.(61) in Bluemlein hep-ph/0003100v1\n",
    "\n",
    "    \"\"\"\n",
    "    abk = np.array([0.9999964239, -0.4998741238,\n",
    "                    0.3317990258, -0.2407338084, 0.1676540711,\n",
    "                   -0.0953293897, 0.0360884937, -0.0064535442])\n",
    "    psitmp = psi(n)\n",
    "    mf2 = 0\n",
    "    if (signx==1):\n",
    "     \n",
    "     for k in range(1, 9):\n",
    "        psitmp = psitmp + 1 / (n + k - 1)\n",
    "        mf2 += (abk[k-1] *\n",
    "                ((n - 1) * (zeta(2) / (n + k - 1) -\n",
    "                 (psitmp + np.euler_gamma) / (n + k - 1)**2) +\n",
    "                 (psitmp + np.euler_gamma) / (n + k - 1)))\n",
    "\n",
    "     return zeta(2) * log(2) - mf2\n",
    "    betatmp = (1/2) * (psi((n+1)/2) - psi(n/2))\n",
    "    mf2m = 0\n",
    "    if (signx==-1):\n",
    "      for k in range(1, 9):\n",
    "        betatmp = betatmp + 2 / n\n",
    "        mf2m += (abk[k-1] *\n",
    "                   (n / (n+k)  * (zeta(2) / 2 +\n",
    "                    k / (n + k)**2) * betatmp / (n + k - 1)))\n",
    "\n",
    "      return (-1/2) * zeta(2) * log(2) + mf2m\n"
   ]
  },
  {
   "cell_type": "code",
   "execution_count": 39,
   "id": "0bafb4f1-0734-426b-abc9-2e09153ac8f8",
   "metadata": {
    "tags": []
   },
   "outputs": [
    {
     "data": {
      "text/plain": [
       "0.3888958455377912"
      ]
     },
     "execution_count": 39,
     "metadata": {},
     "output_type": "execute_result"
    }
   ],
   "source": [
    "MellinLi2(1,1)"
   ]
  },
  {
   "cell_type": "code",
   "execution_count": 42,
   "id": "1df7c7e5-3da7-4544-af2a-9d6fed86126d",
   "metadata": {
    "tags": []
   },
   "outputs": [],
   "source": [
    "def MellinF2(n: Union[complex, np.ndarray]) -> Union[complex, np.ndarray]:\n",
    "    \"\"\"Return Mellin transform  i.e. x^(N-1) moment of Li2(x)/(1+x).\n",
    "\n",
    "    Args:\n",
    "        n: complex argument\n",
    "\n",
    "    Returns:\n",
    "        According to Eq. (33) in Bluemlein and Kurth, hep-ph/9708388\n",
    "\n",
    "    \"\"\"\n",
    "    abk = np.array([0.9999964239, -0.4998741238,\n",
    "                    0.3317990258, -0.2407338084, 0.1676540711,\n",
    "                   -0.0953293897, 0.0360884937, -0.0064535442])\n",
    "    psitmp = psi(n)\n",
    "    mf2 = 0\n",
    "\n",
    "    for k in range(1, 9):\n",
    "        psitmp = psitmp + 1 / (n + k - 1)\n",
    "        mf2 += (abk[k-1] *\n",
    "                ((n - 1) * (zeta(2) / (n + k - 1) -\n",
    "                 (psitmp + np.euler_gamma) / (n + k - 1)**2) +\n",
    "                 (psitmp + np.euler_gamma) / (n + k - 1)))\n",
    "\n",
    "    return zeta(2) * log(2) - mf2\n"
   ]
  },
  {
   "cell_type": "code",
   "execution_count": 44,
   "id": "20d33ae8-818b-4825-bc3f-507ae3647c01",
   "metadata": {
    "tags": []
   },
   "outputs": [
    {
     "data": {
      "text/plain": [
       "0.3888958455377912"
      ]
     },
     "execution_count": 44,
     "metadata": {},
     "output_type": "execute_result"
    }
   ],
   "source": [
    "MellinF2(1)"
   ]
  },
  {
   "cell_type": "code",
   "execution_count": null,
   "id": "852c713f-14db-4623-90ec-c90e48d02431",
   "metadata": {},
   "outputs": [],
   "source": []
  }
 ],
 "metadata": {
  "kernelspec": {
   "display_name": "Python 3 (ipykernel)",
   "language": "python",
   "name": "python3"
  },
  "language_info": {
   "codemirror_mode": {
    "name": "ipython",
    "version": 3
   },
   "file_extension": ".py",
   "mimetype": "text/x-python",
   "name": "python",
   "nbconvert_exporter": "python",
   "pygments_lexer": "ipython3",
   "version": "3.11.7"
  }
 },
 "nbformat": 4,
 "nbformat_minor": 5
}
